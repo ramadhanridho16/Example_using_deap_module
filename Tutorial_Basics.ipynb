{
  "nbformat": 4,
  "nbformat_minor": 0,
  "metadata": {
    "colab": {
      "provenance": [],
      "collapsed_sections": [],
      "toc_visible": true,
      "authorship_tag": "ABX9TyO4gVb7VuWL5uigRJWbYFNJ"
    },
    "kernelspec": {
      "name": "python3",
      "display_name": "Python 3"
    },
    "language_info": {
      "name": "python"
    }
  },
  "cells": [
    {
      "cell_type": "markdown",
      "source": [
        "# Creating types"
      ],
      "metadata": {
        "id": "-L_pqRGfE2ZJ"
      }
    },
    {
      "cell_type": "code",
      "source": [
        "pip install deap"
      ],
      "metadata": {
        "colab": {
          "base_uri": "https://localhost:8080/"
        },
        "id": "VqEJWHqAFqzn",
        "outputId": "b5147304-c37f-4e93-af73-867e00c5d54d"
      },
      "execution_count": 1,
      "outputs": [
        {
          "output_type": "stream",
          "name": "stdout",
          "text": [
            "Looking in indexes: https://pypi.org/simple, https://us-python.pkg.dev/colab-wheels/public/simple/\n",
            "Collecting deap\n",
            "  Downloading deap-1.3.3-cp37-cp37m-manylinux_2_5_x86_64.manylinux1_x86_64.manylinux_2_17_x86_64.manylinux2014_x86_64.whl (139 kB)\n",
            "\u001b[K     |████████████████████████████████| 139 kB 33.5 MB/s \n",
            "\u001b[?25hRequirement already satisfied: numpy in /usr/local/lib/python3.7/dist-packages (from deap) (1.21.6)\n",
            "Installing collected packages: deap\n",
            "Successfully installed deap-1.3.3\n"
          ]
        }
      ]
    },
    {
      "cell_type": "markdown",
      "source": [
        "## Fitness"
      ],
      "metadata": {
        "id": "ncSnmuUNE644"
      }
    },
    {
      "cell_type": "code",
      "source": [
        "# minimizing fitness is built using negative weights\n",
        "# maximizing fitness has positive weights\n",
        "\n",
        "from deap import creator\n",
        "from deap import base\n",
        "creator.create(\"FitnessMin\", base.Fitness, weights=(-1.0, 1.0))\n",
        "creator.FitnessMin()\n",
        "# deap.creator.FitnessMin(())   -->   Return a function"
      ],
      "metadata": {
        "id": "RVD1JbduFh0c",
        "colab": {
          "base_uri": "https://localhost:8080/"
        },
        "outputId": "01bf73ed-43f1-403e-d3ff-99c0b522cec6"
      },
      "execution_count": 1,
      "outputs": [
        {
          "output_type": "execute_result",
          "data": {
            "text/plain": [
              "deap.creator.FitnessMin(())"
            ]
          },
          "metadata": {},
          "execution_count": 1
        }
      ]
    },
    {
      "cell_type": "markdown",
      "source": [
        "\"the weights attribute must be a tuple so that multi-objective and single objective fitnesses can be treated the same way\"\n",
        " https://diigo.com/0qaz7m"
      ],
      "metadata": {
        "id": "g2ZHz0skGbRl"
      }
    },
    {
      "cell_type": "markdown",
      "source": [
        "## Individual"
      ],
      "metadata": {
        "id": "XVvQG0ESE8ga"
      }
    },
    {
      "cell_type": "markdown",
      "source": [
        "### List of Floats\n",
        "\n",
        "\"The first individual created will be a simple list containing floats\"\n",
        " https://diigo.com/0qaz8c"
      ],
      "metadata": {
        "id": "7KEaH_HzFBja"
      }
    },
    {
      "cell_type": "code",
      "source": [
        "import random\n",
        "from deap import creator\n",
        "from deap import base\n",
        "from deap import tools\n",
        "\n",
        "creator.create(\"FitnessMax\", base.Fitness, weights=(1.0,))\n",
        "creator.create(\"Individual\", list, fitness=creator.FitnessMax)\n",
        "\n",
        "IND_SIZE=10\n",
        "\n",
        "toolbox = base.Toolbox()\n",
        "toolbox.register(\"attr_float\", random.random)\n",
        "# toolbox.attr_float()    -> how to check your value\n",
        "# 0.6028992057886329 (it can be randomize)\n",
        "toolbox.register(\"individual\", tools.initRepeat, creator.Individual, toolbox.attr_float, n=IND_SIZE)\n",
        "toolbox.individual()"
      ],
      "metadata": {
        "colab": {
          "base_uri": "https://localhost:8080/"
        },
        "id": "0xlf53UEHU4j",
        "outputId": "ed2ba230-ad95-4ca8-fcf9-131b00a498a9"
      },
      "execution_count": null,
      "outputs": [
        {
          "output_type": "execute_result",
          "data": {
            "text/plain": [
              "[0.10890805015742333,\n",
              " 0.8869245933123515,\n",
              " 0.8760217972748464,\n",
              " 0.6898649210976232,\n",
              " 0.6862175689970367,\n",
              " 0.2481726497805654,\n",
              " 0.26657623451651047,\n",
              " 0.42791715416251874,\n",
              " 0.14926392195085325,\n",
              " 0.5823281112977742]"
            ]
          },
          "metadata": {},
          "execution_count": 1
        }
      ]
    },
    {
      "cell_type": "markdown",
      "source": [
        "![image.png](data:image/png;base64,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)"
      ],
      "metadata": {
        "id": "DerTzt-fLj_o"
      }
    },
    {
      "cell_type": "markdown",
      "source": [
        "### Permutation\n",
        "\n",
        "\"An individual for the permutation representation is almost similar to the general list individual. In fact they both inherit from the basic list type\"\n",
        " https://diigo.com/0qazc1"
      ],
      "metadata": {
        "id": "z_qE26c8FDr8"
      }
    },
    {
      "cell_type": "code",
      "source": [
        "import random\n",
        "\n",
        "from deap import base\n",
        "from deap import creator\n",
        "from deap import tools\n",
        "\n",
        "creator.create(\"FitnessMin\", base.Fitness, weights=(-1.0,))\n",
        "creator.create(\"Individual\", list, fitness=creator.FitnessMin)\n",
        "\n",
        "IND_SIZE = 10\n",
        "\n",
        "toolbox = base.Toolbox()\n",
        "toolbox.register(\"indices\", random.sample, range(IND_SIZE), IND_SIZE)\n",
        "# toolbox.indices()\n",
        "# [5, 8, 7, 3, 9, 6, 4, 0, 1, 2] -> random array from IND_SIZE\n",
        "toolbox.register(\"individual\", tools.initIterate, creator.Individual, toolbox.indices)\n",
        "# toolbox.individual()\n",
        "# [0, 3, 2, 4, 6, 1, 9, 8, 7, 5] -> It's a list that we get from toolbox.individual()"
      ],
      "metadata": {
        "colab": {
          "base_uri": "https://localhost:8080/"
        },
        "id": "grbf2BngLnXR",
        "outputId": "5da77642-5c04-44de-a84e-b342bce9ef82"
      },
      "execution_count": 1,
      "outputs": [
        {
          "output_type": "execute_result",
          "data": {
            "text/plain": [
              "[5, 8, 7, 3, 9, 6, 4, 0, 1, 2]"
            ]
          },
          "metadata": {},
          "execution_count": 1
        }
      ]
    },
    {
      "cell_type": "markdown",
      "source": [
        "### Arithmetic\n",
        "\n",
        "\"PrimitiveSet must be defined containing all possible mathematical operators that our individual can use.\"\n",
        " https://diigo.com/0qb1iv\n",
        "\n",
        " the individual is initialized using the initIterate() function to give the complete generated iterable to the individual class."
      ],
      "metadata": {
        "id": "ZysLy2SjFF0Z"
      }
    },
    {
      "cell_type": "code",
      "source": [
        "import operator\n",
        "\n",
        "from deap import base\n",
        "from deap import creator\n",
        "from deap import gp\n",
        "from deap import tools\n",
        "\n",
        "pset = gp.PrimitiveSet(\"Main\", arity=1)\n",
        "pset.addPrimitive(operator.add, 2)\n",
        "pset.addPrimitive(operator.sub, 2)\n",
        "pset.addPrimitive(operator.mul, 2)\n",
        "# pset\n",
        "# <deap.gp.PrimitiveSet at 0x7fecdba784d0> -> memory allocation\n",
        "\n",
        "creator.create(\"FitnessMin\", base.Fitness, weights=(-1,0,))\n",
        "# creator.FitnessMin()\n",
        "# deap.creator.FitnessMin(()) -> It's a class that we made\n",
        "\n",
        "creator.create(\"Individual\", gp.PrimitiveTree, fitness=creator.FitnessMin, pset=pset)\n",
        "# creator.Individual() -> error\n",
        "\n",
        "toolbox = base.Toolbox()\n",
        "toolbox.register(\"expr\", gp.genHalfAndHalf, pset=pset, min_=1, max_ = 2)\n",
        "# toolbox.expr()    -> run this if you want to know about memory allocation and class.\n",
        "toolbox.register(\"individual\", tools.initIterate, creator.Individual, toolbox.expr)\n",
        "toolbox.individual()"
      ],
      "metadata": {
        "id": "67GW6q8sSWXQ",
        "colab": {
          "base_uri": "https://localhost:8080/"
        },
        "outputId": "84035785-588f-4427-bcf0-c2c2961e439e"
      },
      "execution_count": 1,
      "outputs": [
        {
          "output_type": "execute_result",
          "data": {
            "text/plain": [
              "[<deap.gp.Primitive at 0x7f1f15792b90>,\n",
              " <deap.gp.Terminal at 0x7f1f157975a0>,\n",
              " <deap.gp.Terminal at 0x7f1f157975a0>]"
            ]
          },
          "metadata": {},
          "execution_count": 1
        }
      ]
    },
    {
      "cell_type": "markdown",
      "source": [
        "### Expression"
      ],
      "metadata": {
        "id": "-WDzbIdCFHmK"
      }
    },
    {
      "cell_type": "markdown",
      "source": [
        "### Evolution Strategy"
      ],
      "metadata": {
        "id": "ABMU4pK-FLJ4"
      }
    },
    {
      "cell_type": "code",
      "source": [
        "import numpy as np\n",
        "import random\n",
        "\n",
        "from deap import base\n",
        "from deap import creator\n",
        "from deap import tools\n",
        "\n",
        "creator.create(\"FitnessMin\", base.Fitness, weights=(-1.0),)\n",
        "creator.create(\"Individual\", np.ndarray, fitness=creator.FitnessMin, strategy=None)\n",
        "creator.create(\"Strategy\", np.ndarray)\n",
        "\n",
        "def initES(icls, scls, size, imin, imax, smin, smax):\n",
        "  ind = icls(random.uniform(imin, imax) for _ in range(size))\n",
        "  ind.strategy = scls(random.uniform(smin, smax) for _ in range(size))\n",
        "  return ind\n",
        "\n",
        "IND_SIZE = 10\n",
        "MIN_VALUE, MAX_VALUE = -5., 5.\n",
        "MIN_START, MAX_START = -1., 1.\n",
        "\n",
        "toolbox = base.Toolbox()\n",
        "toolbox.register(\"individual\", initES, creator.Individual)"
      ],
      "metadata": {
        "id": "D12_dXxl-XNT"
      },
      "execution_count": null,
      "outputs": []
    },
    {
      "cell_type": "code",
      "source": [
        "# for _ in range(5):\n",
        "  # print(\"I \\n\")"
      ],
      "metadata": {
        "id": "GmlI9FoO_nMS"
      },
      "execution_count": 2,
      "outputs": []
    },
    {
      "cell_type": "markdown",
      "source": [
        "### Particle"
      ],
      "metadata": {
        "id": "WLSWT3yAFN5U"
      }
    },
    {
      "cell_type": "code",
      "source": [
        "import random\n",
        "\n",
        "from deap import base\n",
        "from deap import creator\n",
        "from deap import tools\n",
        "\n",
        "creator.create(\"FitnessMax\", base.Fitness, weights=(1.0, 1.0))\n",
        "creator.create(\"Particle\", list, fitness=creator.FitnessMax, speed=None, smin=None, smax=None, best=None)\n",
        "\n",
        "def initParticle(pcls, size, pmin, pmax, smin, smax):\n",
        "  part = pcls(random.uniform(pmin, pmax) for _ in range(size))\n",
        "  part.speed = [random.uniform(smin, smax) for _ in range(size)]\n",
        "  part.smin = smin\n",
        "  part.smax = smax\n",
        "  return part\n",
        "\n",
        "toolbox = base.Toolbox()\n",
        "toolbox.register(\"particle\", initParticle, creator.Particle, size=2, pmin=-6, pmax=6, smin=-3, smax=3)\n",
        "toolbox.particle()"
      ],
      "metadata": {
        "colab": {
          "base_uri": "https://localhost:8080/"
        },
        "id": "_ArVld0GHYsM",
        "outputId": "60931bde-6598-41a3-8b56-52cdd9637d2b"
      },
      "execution_count": 1,
      "outputs": [
        {
          "output_type": "execute_result",
          "data": {
            "text/plain": [
              "[5.989451389424161, 0.9120146919333365]"
            ]
          },
          "metadata": {},
          "execution_count": 1
        }
      ]
    },
    {
      "cell_type": "markdown",
      "source": [
        "### A Fungky One"
      ],
      "metadata": {
        "id": "oSuGKKDrFPRq"
      }
    },
    {
      "cell_type": "code",
      "source": [
        "import random\n",
        "from deap import base\n",
        "from deap import creator\n",
        "from deap import tools\n",
        "\n",
        "creator.create(\"FitnessMax\", base.Fitness, weights=(1.0, 1.0))\n",
        "creator.create(\"Individual\", list, fitness=creator.FitnessMax)\n",
        "\n",
        "toolbox = base.Toolbox()\n",
        "\n",
        "INT_MIN, INT_MAX = 5, 10\n",
        "FLT_MIN, FLT_MAX = -0.2, 0.8\n",
        "N_CYCLES = 4\n",
        "\n",
        "toolbox.register(\"attr_int\", random.randint, INT_MIN, INT_MAX)\n",
        "toolbox.register(\"attr_flt\", random.uniform, FLT_MIN, FLT_MAX)\n",
        "toolbox.register(\"individual\", tools.initCycle, creator.Individual, (toolbox.attr_int, toolbox.attr_flt), n=N_CYCLES)"
      ],
      "metadata": {
        "id": "QFJNE9FFM_Ku"
      },
      "execution_count": 1,
      "outputs": []
    },
    {
      "cell_type": "code",
      "source": [
        "toolbox.individual()"
      ],
      "metadata": {
        "colab": {
          "base_uri": "https://localhost:8080/"
        },
        "id": "ls7j3dtdPycy",
        "outputId": "a0a240a0-416a-440b-bd0b-99d0d7b25158"
      },
      "execution_count": 2,
      "outputs": [
        {
          "output_type": "execute_result",
          "data": {
            "text/plain": [
              "[7,\n",
              " -0.14357257049563749,\n",
              " 8,\n",
              " -0.0016218300503318406,\n",
              " 5,\n",
              " 0.03573055243957929,\n",
              " 6,\n",
              " 0.30768611881424063]"
            ]
          },
          "metadata": {},
          "execution_count": 2
        }
      ]
    },
    {
      "cell_type": "markdown",
      "source": [
        "## Population"
      ],
      "metadata": {
        "id": "3yBIDfIcFSYJ"
      }
    },
    {
      "cell_type": "markdown",
      "source": [
        "### Bag"
      ],
      "metadata": {
        "id": "JTka14_QFTwC"
      }
    },
    {
      "cell_type": "markdown",
      "source": [
        "### Grid"
      ],
      "metadata": {
        "id": "FcWXQPBbFWX6"
      }
    },
    {
      "cell_type": "code",
      "source": [],
      "metadata": {
        "id": "xZnNR3DLE2EN"
      },
      "execution_count": null,
      "outputs": []
    }
  ]
}