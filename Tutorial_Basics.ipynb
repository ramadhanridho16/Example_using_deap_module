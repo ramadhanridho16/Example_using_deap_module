{
  "nbformat": 4,
  "nbformat_minor": 0,
  "metadata": {
    "colab": {
      "provenance": [],
      "collapsed_sections": [],
      "toc_visible": true,
      "authorship_tag": "ABX9TyMChpqOow5FDvkOfLDFeDxg"
    },
    "kernelspec": {
      "name": "python3",
      "display_name": "Python 3"
    },
    "language_info": {
      "name": "python"
    }
  },
  "cells": [
    {
      "cell_type": "markdown",
      "source": [
        "# Creating types"
      ],
      "metadata": {
        "id": "-L_pqRGfE2ZJ"
      }
    },
    {
      "cell_type": "code",
      "source": [
        "pip install deap"
      ],
      "metadata": {
        "colab": {
          "base_uri": "https://localhost:8080/"
        },
        "id": "VqEJWHqAFqzn",
        "outputId": "5ded5cca-d06b-4594-97f9-e9eef6e5a4bf"
      },
      "execution_count": null,
      "outputs": [
        {
          "output_type": "stream",
          "name": "stdout",
          "text": [
            "Looking in indexes: https://pypi.org/simple, https://us-python.pkg.dev/colab-wheels/public/simple/\n",
            "Requirement already satisfied: deap in /usr/local/lib/python3.7/dist-packages (1.3.3)\n",
            "Requirement already satisfied: numpy in /usr/local/lib/python3.7/dist-packages (from deap) (1.21.6)\n"
          ]
        }
      ]
    },
    {
      "cell_type": "markdown",
      "source": [
        "## Fitness"
      ],
      "metadata": {
        "id": "ncSnmuUNE644"
      }
    },
    {
      "cell_type": "code",
      "source": [
        "# minimizing fitness is built using negative weights\n",
        "# maximizing fitness has positive weights\n",
        "\n",
        "from deap import creator\n",
        "from deap import base\n",
        "creator.create(\"FitnessMin\", base.Fitness, weights=(-1.0, 1.0))\n",
        "creator.FitnessMin()\n",
        "# deap.creator.FitnessMin(())   -->   Return a function"
      ],
      "metadata": {
        "id": "RVD1JbduFh0c",
        "colab": {
          "base_uri": "https://localhost:8080/"
        },
        "outputId": "01bf73ed-43f1-403e-d3ff-99c0b522cec6"
      },
      "execution_count": null,
      "outputs": [
        {
          "output_type": "execute_result",
          "data": {
            "text/plain": [
              "deap.creator.FitnessMin(())"
            ]
          },
          "metadata": {},
          "execution_count": 1
        }
      ]
    },
    {
      "cell_type": "markdown",
      "source": [
        "\"the weights attribute must be a tuple so that multi-objective and single objective fitnesses can be treated the same way\"\n",
        " https://diigo.com/0qaz7m"
      ],
      "metadata": {
        "id": "g2ZHz0skGbRl"
      }
    },
    {
      "cell_type": "markdown",
      "source": [
        "## Individual"
      ],
      "metadata": {
        "id": "XVvQG0ESE8ga"
      }
    },
    {
      "cell_type": "markdown",
      "source": [
        "### List of Floats\n",
        "\n",
        "\"The first individual created will be a simple list containing floats\"\n",
        " https://diigo.com/0qaz8c"
      ],
      "metadata": {
        "id": "7KEaH_HzFBja"
      }
    },
    {
      "cell_type": "code",
      "source": [
        "import random\n",
        "from deap import creator\n",
        "from deap import base\n",
        "from deap import tools\n",
        "\n",
        "creator.create(\"FitnessMax\", base.Fitness, weights=(1.0,))\n",
        "creator.create(\"Individual\", list, fitness=creator.FitnessMax)\n",
        "\n",
        "IND_SIZE=10\n",
        "\n",
        "toolbox = base.Toolbox()\n",
        "toolbox.register(\"attr_float\", random.random)\n",
        "# toolbox.attr_float()    -> how to check your value\n",
        "# 0.6028992057886329 (it can be randomize)\n",
        "toolbox.register(\"individual\", tools.initRepeat, creator.Individual, toolbox.attr_float, n=IND_SIZE)\n",
        "toolbox.individual()"
      ],
      "metadata": {
        "colab": {
          "base_uri": "https://localhost:8080/"
        },
        "id": "0xlf53UEHU4j",
        "outputId": "ed2ba230-ad95-4ca8-fcf9-131b00a498a9"
      },
      "execution_count": null,
      "outputs": [
        {
          "output_type": "execute_result",
          "data": {
            "text/plain": [
              "[0.10890805015742333,\n",
              " 0.8869245933123515,\n",
              " 0.8760217972748464,\n",
              " 0.6898649210976232,\n",
              " 0.6862175689970367,\n",
              " 0.2481726497805654,\n",
              " 0.26657623451651047,\n",
              " 0.42791715416251874,\n",
              " 0.14926392195085325,\n",
              " 0.5823281112977742]"
            ]
          },
          "metadata": {},
          "execution_count": 1
        }
      ]
    },
    {
      "cell_type": "markdown",
      "source": [
        "![image.png](data:image/png;base64,iVBORw0KGgoAAAANSUhEUgAAA1EAAACKCAYAAABLlMDbAAAAAXNSR0IArs4c6QAAAARnQU1BAACxjwv8YQUAAAAJcEhZcwAADsMAAA7DAcdvqGQAAEGRSURBVHhe7Z0NjF5VtfeXQuECnZFOv0DbiuM0pBV5O1dTayqQS1IoBAmUvkltwkeRtG+8XBWwyCVAGjBcLkW4+qK5NFwLmtQmlkqUwHCbQEAba6NOXz/acBlHLVXo1xRnCmgBfdfaH+fsfT73eZ7zzDwz/f+S0855znn22Wd/rL3W2mvv5z2nT532dwIAAAAAAAAAEMR7zf8AAAAAAAAAAAKAEQUAAAAAAAAAFYARBQAAAAAAAAAVgBEFAAAAAAAAABWAEQUAAAAAAAAAFYARBQAAAAAAAAAVgBEFAAAAAAAAABWAEQUAAAAAAAAAFYARBQAAAAAAAAAVgBEFAAAAAAAAABWAETVRue9JeuXlX+rj2XXmw3DWP8vf+/mjtNqcA+Cx6lH6Dbet5+8z53mE3hdAu7bJ1d/Zzv3sSVpvzo9frqXNPzcy5+XttHmV+RgAcJyzjp63+khFWZklX6GfgHahtUaUUuSLBlPdsX7znWvNOagHLterumngiXNp9lw++mdBoQEAtJTV31lNi2kn3SMyZ+4GogurO28AABOP9c8uo57BrVofmbuLZkPnAxOE1hpRt+2iAeqgj16Y02HuW0A9NEK/eu5x80HjNOYNNp7T1EzNODfuVs2iGVyu+18y57fdQCs2mr8TNOtFr8cjlFcPoD04DpwdNc6YtYSs/OU4qcZqZmzujA6iQ/uIzSfmcVpxdfv152PHjuGocIwmWc/HUf8x+lxLs6cRDR/4nTlfx7KheZ1vdICjHxTT4nC+dfSzQaLO+edlKtnre7u5Z+2h53IU/CpsuHoxzZ57Ba01582xjv5p7rn0kXHT0ROcPY06zZ+tZu3F59Lsj91gFCcwMRnn/SGEjTfQR/gd/+k2c95uVMhfvbIwFK0oAQCAz4do5mgpJLVzHIx9oClaviZqbb9YUfPowlQ42Tr6uNhQu3/kKeDaiypxs/rwPQDWK7Aujr03sxd53tf89CStW2ixdO7uZea6/X6O98F4g+P08p4nn7vrA/jIme2y14M94CV5UM+/iguWOmjx7cVpyyzSnYs6+K9uWmHSS9/r5zNZJpkzUe56rIwy8smpB/OeaQ+QP2sVl3dxPhVe2VVYs+G9Dx+JurRlsD5qa/47q+s5383EmXXwvpsz4+fdw0fWu3v9ICudwjrL6Q+GkDymaLQuhEQfcNuszktGmysLLXbK3BLely0B95X0DZX/rLaUyF9WP7f1E+fb4tSf9/zs8vDbE6ejvpPOa0xGH47agX12WmYrEnVZVCars9qM91lRHkEr8NtKhoyI2m0sn/PkCGgH4nrSR7pPlY4lLqr+l1EP/9m56Bb9HU8uJmQmH2kdJJTitNJy0XkXL0+6DPR3rfyK22ycToC8T8g3KwfRByYOrd9Y4qVDNJwV0pcRyieN8wtsUum4WT6eGOSOtzo10HcuWhbH3l+c0XANxemJh+GrtH2Y/4xidQu8t9IZbl9ItOOrUXqbB8X4yBq45fNbaOY289x7d9IwKxduh/ZjhL9K+5cEKJIBeVBeaH5P4rLdfq++J897LbNI9+wY4b8GabNJz7u3cyHd+fIS2m/SyasPHxY67nqsew/RpYWCNqceNv6IfsWfpWYx77uSlTV+t81uvUsZOPnk8iYW2J6gMmV3wObriYOsfGbVXQJRIHt3mXzptJN1qeCyWrGITJnH7UiUjBXT7DoRfs9py4IFaM9Vv6RLD9i65u8S10eiLFX63XH95b37F6K88bFtGt2ZHDQq1VlMSB5TNFoXgrTJ26fR0+p58t1BlQdbH8ppw+3h41798GC3hA2OwW25Ya35lPdlTcB90paumh7Vwz07ptOKrLLKaUsuWf28zFuqlJglh0xbFNnBBtiN7vO1UhC3Vzl20ceVsVZERh9OzE5nyuwqMlXV+zz6lXpXeZYxHr3P+LtZigxoCUGyx9BzVTzeHTde/Xmn058emUe/uMSctz1iMCygn9n6zOpTpWNJAjWDvpUG+M9h288jnU3kzS3OOko+EvI8nPK0Njy3h3VRf2yQEOThYdaBps2K5aDSTQfpZ4Wz/oHy3h3n+PgaLdHOJjBhaL0RlaMMZ4XyiWLgCVhjgM0825xbhrmjBISQBacXwPoVC6mTn/s1J721F4tw6KZLMwYNUUgjg2TjPjrA/834gL0vGfryOK342OJSBa9qHppHFDQnXyHlp9ZjOYgQbSjc73F6bjcLt8QsZnYIqAzkTj75mU8nwkhV2fEgHtXJbd9XA0Rpud12hW+op+rSkigrgQecS7v584ft+3M9bxND9Mogg0HaUNx+9Xe98lDpy32Oos3v/jU2jL1nJMM7k+/URJ2V5jGDhutCkL7vGhbqu6yk9Zr3UeswnXNh1Xn0US6AgX7nswoU9+WYsj4vhtzwjg1RG9lw9TYaYOPgMymFIaMt1UFCbr58QPrXNJprznU5ue1VYANJGWtNkiGzq8kzt0wep1cO5XzmKkOgdYTKHosYUAUOT9AOiDPEddpk9KmysaQK1iHqyhtObzOLm54lYU68iJC0MvWwQXp620FPDq7+wHSWV4foZXOeR9m4oHQVd5xjNly9QY1XYOLQeiOKO2JaGc4O5Qul0e81Tl5+89Z8lXkxjHDqXhYe/lQ5DzXQyHo1I0zEA9TslLX2HLmzmOHtRoeRWsFovhctbI3pnPEh81eTZJTV6gvn8YBzkF5JleF0ml04m5eD2ajFGrE6/XRbS3ncjPErnvtMD1+NdZbMY5q668LIl2ig1/2BuhdEilxeOYUR+r2S+4whd+CPscFgSRlkNa0TTVLWb/Lba/Nkya1K8iyrTBotJzND8EZ0zKRvmkufXzVbnf/iy/babHp6nr72TflsPV9bn/6euuak+adVJ8afrz+dPq/OmMDZCZ0PJ80vn2KuFOXjFPoFn//pyzPj94u+p6/Fadr3OpGelnSc9OmSmc71bIJljyHYgaHKZzaXf/z+UVl5+XLybb7zJ1Ue8Xd1Hej7Mssk9Z4ZZZGF+l52G4nSkM+/eCa9z3wq5LWRwnqz7YWvpb6X144z2liqHTZK2VhSgbw18flLQPIJS+t3tF8c+nacEZlMbCypd7Jj8rV04fyOAB2jbFzIH+fAxGIUjKgMZbhgV74oRlWO2xeyoG6OutOriyiUTsJUJG/BxlS7E4f22BjohhXz5CymmWZ/2vFcVyGKyVaHWcMRgreORMd3hyPT/va7fJSGRrUAmVkyIRViKEk+/AGwxjoLpOG6CMAP6TOD4o7vZ4bFjTa2/PVRtS2BWtjzOr1/zR46TR0v0wvDXXStpzh30RkHXjbXJtMFlzvXOruIeDw7bc3v6SW+7wqj0H7u3216fDw5RO9bdKZSrD/3yyH+TgctNUr2Ny9nxXr4VXrsGX2ex9c3vhKn9x+v0p+7z/INr5x8CO9jEfOkyQd1TzMK/lv0jzY9Ph4f5Pe6XpTqd6hv91G+r9MYYmwEXMhpDx6iS/eoD8aAyXT2tBH6V5VPorMvDFH+J9Nrz+n6OpsV43/dcZTeN2OSuSZlchLt+o9EWT4zzGU3mRYsMmV3yVS6oPMovfCDt/R5IV38nN9zWfpt5JtfnksX0Ksq7+pZ6lNNXhuxZNeb5uxpf1VpqvdaNFXXVV473nOUdrEsP/vc2BC7gtN+6bnX6ev6kwL0GiAro1Ykh6vSsaSdMQ4362CTWTXZTVTpGdbxpzfByHJ2AZDFqBhRSWU422ug4/HvXHTQi7HmrzVI3ekVEG3rWw29i5ZjTDUTz99gHlqDhCdKmceKeWOC1g0P0+FQNLgrSBlWU/IR2gMVxWS7R0koglo47axjmW0GkBA2/PEg/+usGYiOBkO1kmF3hThb3CvEUIrz33NVcg1eTXVWmsfG6yIPtbW2ixviZ8I86vgZhaYws30SApJ873ZZI6Lba4OzpHXTYnkWzwqw0psy4IfoyY3v8P/v0KVrWUH9d0epjgwgbZS8X93HuLMCV7ARYnnmsFKytaJ+Ci1iEfZnNlrKlVln5igxo6HIywfz5x2H6XPyxzP7Wbl+JTKG3Nmtax3l+OsbDylDbJEYFvM4r1weL/0yxJDIIyl7qhOm8Lscpdd+r//684G39R/TTo6NL2sU7vkrvcb/nXGG1Mdb9JgYJfMnq/u+eS7X2/AI9QUZj1nGVkn95rURQ169CbY8tHG9X9/HZLdjbrfPiSGmDePPL+rg9jNEO0oMd+0sXEYzvDWK5ppH2VhSB3XOiMdpuTJO9FA9Q6ojg/R4oR21jUUtuCRmvcCEZXSMKOsBUOFVOWEcdt2CG2PdDEHp2dj6MvJC5uqZshVjSgmrwnj+1uRBC5VWIYq5FrRZa0hiCurB/tbYiisrrWtRinVkcOn002VXhilbZx1LJVSYQDq0pWFUPHos4PNCZ4rDsngAVM6EvJC70DrLIZHHNI3WRR7mN0g8eRJ7HJ/PCfMYffSg6q3VahbVvmpEGZ8dtHiFk0e1GQaXYe20VqYWIcbEtd2sBMvMhPLgmwsNwwaPGDqDMjNhZhIi9EyPUtQv6aSzIwOtCAkJO4vOZkMpa0ajIS6ZSf+2aDK99KS8s57hiXmLdvC5zFwohTtgpqwx2dN+fH3HCP1ZzRRqA6i68RZKURtpjMJ2rGbZxDA+kZZy24sMtAK0c9tfo1hM2VhSTF7Yns5H+Zokl+C0ot8uXcfjRmzsq/WhrH+tF+droKO2GOMA7l7iGJhm84vI2AUTgVEyohyh++yC7FC+jEV/m2/U4XcNKXOB6anO46yfyGPtZhYWnQvpC06Yk9phr6HwMpkyd703OYZlgnrzYKhb0Relyw1NLAjddMmvB6NsdXerRejfzVTOu/1dzjgPK2RDB2cHP7VgPTnbJ3ktnP1Le5N0efuf5WIWWvueOhGkYZ47/3t6Bz0vLI3Tlw00eq5ydjNTuyf54WsqpNV5z9R6hgbrTCjNYwaN1YUh8b3V31nNg1K6/Vt508P9amCbv6HB2MCD6sPcf7v93RmlbhoPdxUZl7HzacMYA1rWatqQHtmZso6NJTJoiTwL5hj9Xjz9KoRLf9IsegbEhMM5qJmezjPp367oylBm7RqajDVIh/6qFHoVAqg/aRIzW2PCu1w+9wMd5qYMrRBDIlD2tIwG6+3zq6axIXuUdu0whuye1+lJCW38ojZak8ajnekpW8OmeZte4/HChhFm1VteG2mcvHasZ9nOvkJmqEIM94yNZtQ4yv+7my6UjSVVsE4bd4dQ88zKMjs4LTumL6CZFDvXlDOZjbBLJfS7LgfObVfQPTtI7yKq5Cnn7GEd6QEmDqNmRNmQvh5WhrM9w+vULlDxWgm9faTM0Mhn1RWNsPT0bilm3UrRuiSJBb5Xb+FqFQy9vWsjM2cyHc7d+kadjp1CLw3rqTUPhkjRl/TClPtCZLeeh4m+YPKnQ+HKw9eK6kGvcSkyMrkMZKvVwmdKmScURNnuuTCELFZ87XdkO28VfimfBSj9MsvoC1Jph2HhfANPbKOZ0fey24isrdPbQpv7zJbR7n0qbLR/gUnHhrg6babBOtO7o5XnMU0jdWEY3Er3HFgSfS/1LhYjb6RtNB+aURMZ/ffOGdsCyisPX8bVszZB6sYJN2x0560QWiHPArDha9dKGNSFf6UXmrYRTVjYorkqrOqM3cmZIz3TI0ZMpLwXYsOxzlIK/BUHXuX8NokJK7zgi/zOXzyZ83HUXDCYdTQSylga9mUIkT214r7DFUQvVak3U5Z6Ns4PlVPr1piwMMsiuN6+pY1Reda1XJZxvZW1keqUtWM1yyZ/DA6XzkIJ3hgsh8hkNdMkn2ljuXQsqYQ4bdiokJ/FsM+8Sv/UhrujXRihaZmoF9ZDe9yQYbNhRmfNod92yYY+ssdUu26/1euQQWt4z+lTp/3d/A1AeyKzFDmKvQig5gR5G7Iq/h2l6oMJ0JjQiUPYWrlZot86a+inCtqLY8eOmb9GE5ltmksXHPq9v76qrZA1WGfRGTte9tZXnXTSSeav1tOauikvewmL+7dFx+hxZ63RhEB2EbziJHrhP3yjcTTrFCTA2D7hGL2ZKAAagpXhhn8oFRy3ZP4oMyhDbaTizrDa3wNqi5DI8YcOB2tnA8qGE6YNqAmP2qpcZqcmmAFlN7DIMKDAKCIGUyK6x/42XvayBDAewUwUaG/ULFT+FD9mokAaMwslv14/AWZPRhdTds76isbCa9qTsZmJGr+M/5kokAQzUaOI0V8iMn50HIxvYEQBAAAAAAAAQAUQzgcAAAAAAAAAFYARBQAAAAAAAAAVgBEFAAAAAAAAABWAEQUAAAAAAAAAFYARBQAAAAAAAAAVgBEFAAAAAAAAABWAEQUAAAAAAAAAFYARBQAAAAAAAAAVgBEFAAAAAAAAABWAEQUAAAAAAAAAFYARBQAAAAAAAAAVgBEFAAAAAAAAABWAEQUAAAAAAAAAFYARBQAAAAAAAAAVgBEFAAAAAAAAABWAEQUAAAAAAAAAFYARBQAAAAAAAAAVgBEFAAAAAAAAABWAEQUAAAAAAAAAFXjP6VOn/d38XTuTJk2iWf84mU6f8w/03hNgrwEAAAAAAADq5W/v/o1e3/sX2veLo/T222+bT1tLS42oD31iCv1D51/p6P4/0d/eecd8CgAAAAAAAAD18N4TT6TJM99Pfxk+mX730yPm09bS0ukhmYGCAQUAAAAAAABoFWJriM0htsdo0VIjSkL4YEABAAAAAAAAWonYHKO5fGj0ngQAAAAAAAAAEwAYUQAAAAAAAABQARhRAAAAAAAAAFABGFEAAAAAAAAAUAEYUQAAAAAAAABQARhRoMVcRvd/Yyfdv9icAgAAAABMZFZupf/+yq3mBExUYESBFiIG1HpacGQL3brdfGS4u/N/06/P6KW7E39b9GfJw7+nMif1ZqdxQg/9hNP/yamnmQ8aoEoaefloihn0A6esMvPh5rGOdwZgnLD8pp303994hJab83o4jf5rKve3qT10nfd3PtedemHinuppNMXiR2jrt/fQf5tj602XmQsGUfz480dXmnNwHHArPeq0CXtktYGbvyLXttLN5nzcYdq/1+5Nm0/1hWbZ9C3aNWVV/emCtgJGlKA6FmZLLHUpHMtvuosW0Iu04Y77zScJ3h6hQfOn9zdz1/D36JzXvkcPDB/ma/30AP99zmv9dJe5DpIcoMtVGT1NP33bfJTDwXfeMH/5fwOglCR4T6vx9jA9Zv70/q5CHWmUwsrymvOJ+tfSRdfMU8eyh54y18JA+6ifdinTvX26Tdjjhk3mQjDaGBsPBvjknk9H+s3ymbPMX3XzFN266UWi3vVwSkxgYESBFnErLe3toL3b19AW84nL4DtsHBncv8eEdwfok2yAfPLNJgyKOtJoNe8O00Hzp/c3AKAB3qA/Rg4L9+8q1JFGIIs/TF00QgM7CwynTcsaVKDB8cCDd4iBtYweNOfjjg9Op8kje2gv9dJC5TS/jBb27KNd/SM0eep8dUutsP6zidOes7juWXDQLrzn9KnT/m7+rp2PrfgAvfbL/2fOsjDhXh3mlBFviBXg4qH51OG1tInuotWskAtH+9f63jOZil06z5z439cknzFCux5ZqMPLZAZqzfk0WV/w8J8jHpZVNMecEe2hPkeQyMzN6qlb6KLdi+K87N1IF+XNwORSVB6Sh+U09Mjd/M72HuddDFJmS6OM+vlUJN955EXa8M/a0FHvYcrZJ/GcRBqpOhGkXhYfjNJuFAl/+dIpe+mBwwO+d1ZC4jpG6IGRDvpSV4/+TGasEvdJWOCyU82JYoC2RjNaEgJ3AXWrv/kth5/2jSB5RtcU+unB5+iz75rPVMjNpfSJt1+gc4YP8HlJGobCfKjnkJMvcz/ZZ2iSaQwOfY8uP2ZOInT+5r+VnY9RoaCNCeX9pZG27vYVG0aa6INKVlC6TxTR7Luo70+nH1+zg+ZHMiTZLwtklJE9XYk+pp7b0990/7IkyzLG5jUkH7betlDXmlhepmSyqocimc0k7sksd0dWpWVQWpYm0wjKR9MYeTHJnAoZcmpUUG2xlwYS/UiRaOfJsihvH3Ff2HB4eVw3qXEwUS/JOhFK6r54nKxA0XMa6bch7+KUR0iZFssGIUxWFqP7NhWUod/fkuWgv5/5KtH76vfo2r6WhhbH75Oqt0Q7zNItkuWWuieRhpdfqY/5O1QbXbp/Id3wB773kt/SJmmzIsc9uZ0j9+21lJzXs7zJ/OprOf0OtIQzzv1f9PPNfzRnrWUMZ6KMcBBFp2AKeXLvej1Iy/VHZGr0rjjsTgmoWSwwzPf5etdSfzp5+U3XE22K0+/b20ELVhqvwPY1tMx876gSPPF9cUeIlQd7bUP/LFqajAues4rzIgqa3LOR9vJ5tSnckPLgvK9ZTz0DOi8b+il+F0YJlync2c130/nkZ1zCxWGuq3x2nE8rTczulocWmu+NaKER3ed0fiMshlj42TSGuI6Scb83z+eB48hv/QGlbib10pfEkFJhbC/QIJ+vcdb4KKNjkg0F5GNowFyxlITAHfsf/nwqzT/ZWTd0wpk0f9Jh+ukb1rgpD6Mrz0cAbGgt+Iv5Ph8S5tjdVfe6qjoobmMRpf2luK1L35+/2z5Dt9k5S21bf4rb6x5+xiK/7S+exwPut5zBv4y63mUe90OtpEg6fXv53AnfKZRRdD/1iZfUCT8RmVQ0y9sI2sMsz+YTUQ5MXmKvc2g+pN5EqdPf9+uFCZDZqXvkcJRTrdDtM+UtR1IGpWWpkmkuZfk461/o3ts208Op4z/purPMPaU4Dhen3442Ul5qnYtSCqV+ZF2LHE692LFQ2q/5yKW8fRi47Stl1JTpUa8vpOul78j5tNoNHZfxpaDuhZu/UjxOXnxNVr3xcc2V5g6mpI1pivptwLuI7sAKe5R+ojzKyzT9jIv69nH9JZcelMjKGrC6wUV9LFdT3E83qPzptiOGUZRfz4Dm5rFUDCl9LSUbAnQLacuujiOHb7RwmXtpyJFoo8yWnf3UNf9WWr6wl4Z2+3kslfvSV7y61M/MNKCE7T+kgZEO6vqgOQcTirEzolZeTws69lBfopOlcD0A239LQywwbGMURf1o/92xgs+N+8fci+dw57BseWiZZ/0/uJuFQMf0bK9JFisX8b176MdO59jy0BYWFvNovjvwe96Z3TTEY3bXzISyVURgebhely379znvcivNn8OG4KZ4IEjnk5XLO9yB4n7azeVVZRpbhI54YOJBK0u5uozOmMJ5PbzbnLeKAdoaeXQP0K43uThOtAbPDFpwKhs7rzfj8X2DfvTWYeo45cxoofd1J8+hjjd/7cxMlVFHPphj/d6s02N/3ctm/xT6wAnmg7YhtI2V95f8ts5sWuYpTjIoHqVZdIZVLjbt8Nv+4k9TDxvchaFMKep7F9fjuvcw3zDlw1F/KZNR6t06bPgJY2TSbs/B0npC87G3L3a6aBkU10u5zGYFRhm7zj0eEn7TwdddYzghg1RdF8vS0nz8/v/S7fetoBtTx/+hx36vbylFOVxYRjmzyWNBpACL4uc5C9PKZdPIeG3LXSmPTl/IqJcHn+E8uW1K0UE9C0vGTs9B4vPst7PqjY9vf9/cUdbGYnL7bdC7sHHhtsFkeZRhZNauZ5w0ZLMCVsiT5VMoKwOZs9Qa13K0Zo245NOWZ1Jmh+kWTKq9pHF1QJdo/ZPUxZTltLJnX4YcDZD7YkixQSlG4KNfWUVzON+ZBpRDJX0QjBvGzIhSjXnkoPJcFOLNZmiPh+5kWlGXmaq442dMj4t3w7nuTa0HkJ3PDEXJu4c74T9XW7QbWh5D+500Vfy6GQhVvLvrZZQjPcUeeSXNkR1OkM+cqR38zyovjewQwDHmhE6abv5shsfYYBqcNIfOU8bKaXTeKVNp8C8VlKKa8pHcfe/X03u5ttuToDYW0F9y27pCZojjZ2gvu4segO1gqgfo9C6RZdTzLiM09AfzJ6OUWtfrXSajlIIfK07aAKgyo1YTDefDOr5CZPZ86uKG7dW9R/Z1T3GUdQ/q0zwC8lHHTNQJHW3bR8cEVS8yuxOXearfinLKxp4sxrf3POo5K/UMjpoVsmkkNkEqn4kqa2OWgn4b8i6MRIdE17+93gnLC0A9Yx+95smsp+i1I2lHTrGsDMObQXKjT0aJEN1C6kDNtGXNpipER9TRADaN7N3xnqKdA1yOR3bE5eQ4toLkPpeztMM5c4odNmBiM2ZGVKPekhgtTMSzEXd8c0QNOp5mja5lTkfnk53PUCEcTtPloWbp/JBEe0SenZVbWSiRd48KJaiA8sZ5oQfm8EIhsgX9+ERmuExIn3iWqZ+2ptYhtRoJC7qAut+Mw4LOOdjPtd2G1NDGypEwF+39i9qf8rL7KE+n8ljL7AXnyfXohjAq7xImo2R2SntkZcbZnxkfTSrnw2xmoJXREJldNouffT3YKacIyEcdM1HA5w8HuY/KrG2izJMKuxhS9pry9qdnRWwo3EXXrKVddD6tdsJjy2eiytpYAAHvokLPRMGOrnFeqwht9Qxndl0xWlEeo0+YbqENKXtNGdOpnYRteCEfxiB/NGGICyod09+V/mUJlPuqfqe8SH2ybCJgN+M69UXQPoxdOJ8Jt3HXBlRFDejuGqkkagB3Gy8rLFkzUSZMMDOEwOTzU44342aZvh3hzpOaBi4h8m7eTRebjyKaLg+ZcnbXUqTRU9mOZ4uFRZaHRRt02VPmWjFNrvlIo0KSCkIuWs67r9Judz2T2rzBbEBRkbve6Cc65Uy6+2QurLderRaWF5KPd0dYzYxD82QzDX8TitNo+iTWEaPtyNmoOr11M1HWC9fI71uEtrHm0E6MWJFgo2pl2gusZ064737jLsr6rTLNlXSL6pPpGYZReZdQGSVhPKwsrvzGcurKm/2xM1oBA3oeSpEp6rch+XC4+RKul5F+2mnKsFRmKw/xSME99vr1cR75vVe6a7MSoZzSnpMe7fJ81MCxP9Ig9dCCk/Sp2iSnc6o+qUoNdVsHpe2jCBXOVnGMU4ZEEdogrkZZGwsg4F3UzIpj2Kuf/MgQ2rllqp7BY/ol8TN0Go04UfLlXH1o4zQvlK6MUN3CRZVdEUq3q0aQ3LeG1qY19OBDd6cMeQ8TlunOaoKJwxhuLJGedpWjSgdS09ZqoWX8fS8NHlTV9pJRrO9yGupLe6xVXvpkUI1DCGIFkq8lwgvUwsaEd6R5mi8PFeYgi1ud77vT3Vuks4vgt9cWH1QhTynUNLUbGuh4Ak24hSzCjp+RoXAn16RURDZjkLA1pXTIBhIqjK3KRgpv0GdfZ+On81Id/ia73yVnb8SgUenq3bM67L2dM8wNBjGEqJeWdR6hbckd70rTCMjHuwOc7lT6xHRJh9/5xF8nFqAfoMuHBuK0+VnTR17wflcr+F0C0LHqEu7kKKqBBLexpkj2V1msrBc1J1HKcgcr2KnFw+WMyrsEyyij+LESlruuy6y5oI7zaWmD/S71zqlwmfJ8uGsrltJG35NcJrOZdMgOH47xINe9cK41eiG5u5ZC2ofNx2rZmCg5uxeQj+bR/ba7y/Rr2WW0kU1lhBrqtog4fEmHgNuyS8r18vZRhIS6rlU/QGrLWx2uYcjKqXdN1a07UyWz0M51PtR4XDGcqqyNlVP+Lg/eoTcksOOxbLiRNaORX6byDF8n0BuqtGAtWyFOmSsHj81rcoaQ87uJZZerw1QxmAN0Cz880pSHK1+SodFmUzArG5RhW0Kp3Jc2yuUQr6lz3jvjfVUoueNIAhOLMd7iHExktAd4LIQ+aA4ZNNfrH0qu3VkwyqgBT3bOG/9tUPWnkm3NdZ+TUJTWrWnIz4esUyveKhk0zmjULQCgRsSow/bmo85xssU5mOhEHp0q3igw9qidIomODvxwfBtQJjRub98EMOJVyJoOH8mvE73lOLXS6xmUD1A/o1C3AIAa0WHmFM1YgYkIjCjQQmzIw/LWrj0ANWHCNpThUW13ybYiCunwQznGJTa8KRXW5COzFCoUSxZmt2L2MDAfoH5aXrcAgPoRZ+SR8q3PwfgG4XwAAAAAAACAcQ/C+QAAAAAAAACgTYERBQAAAAAAAAAVgBEFAAAAAAAAABWAEQUAAAAAAAAAFYARBVqM7PiW/FE+AAAAADSN7JyJnxEBYEyAEQVaiPnR1iNbUlsi390pv+LfS3cn/rboz5KHf09lTurNTuOEHvoJp/+TU08zHzRAlTTy8tEUM+gHTlll5sPNYx3vDNKorcC30s3m9Lgl2mZeH1tvusxcMJgt0x9dac7BccHNX4nbRHRkGQDjvn2Yn4v4xiO03Hyif4w6+VkNbPoW7ZqyKt3HAAAtB0aUoAZ8zJZY1O+S1CDol990Fy2gF2nDHfebTxK8PUKD5k/vb+au4e/ROa99jx4YPszX+ukB/vuc1/rpLnMdJDlAl6syepp++rb5KIeD77xh/vL/BqAeWFlcIz8yuZYuumaeOqr+VopStuFdr5W2KVP5vSvTLtSRNz4UMG7aR0cvLbR6xeIPU5f5s16eols3vUjUux5OCQBGGRhRoEXoX9jfuz37xyEH32HjyOD+PSa8O0CfZAPkk282YVDUkUareXeYDpo/vb8BqBOlLI7QwM4Cw2nTMqVAj+sfQgatY9y3j/nU1TFCe/cS9SzUM0TLF/bSUP+LdLRjOs1Rn9QIj7Ob+kdozuKaZ7kAAIWM8Y/tmnCvDnPK7O2LBad4mz51eC1tortoNSvkwtH+tb5XU6b9l84zJ/73NclnjNCuR8wv7ssM1JrzabK+4OE/R6bhVzmCbw/1XbOMHjRnMnOzeuoWumj3ojgv4m2r7GErKg/Jw3IaeuRufmd7j/MuBimzpVFG/Xwqku888iJtML+Cr97DlLNP4jmJNFJ1Iki9LD4Ypd0o1516IX3plL30wOEBesx8ppCQOB6kHhjpoC919ejPZMYqcZ+EBS471ZwoBmhrNKMlIXAXULf6m99y+GnfCJJndE2hnx58jj77rvmMTqP/mnopfeLtF+ic4QN8XpKGoTAf6jnk5MvcT/YZmmQag0Pfo8uPmZMInb/5b2Xno+XYet8+nVbbvuC0MdvGewacNqPaUy8NqDamr3cNvEhdvdLGuA33ES2VtKJ0zD3b19LQ4ri/xO3Q9KMjiT6oZAWl+0Qepe+i8fuckOh36rmxjErKhlI5p8pnOv34mh00P5JDyb6dlB1un9XyqyvRT1V/7+lvuo+m8OrTfGZJyI6kvE6XpSV+XytvNxxeHsurlLxNlEdGvaXqJXVPskzT+Q2i6DmN1G3IuzjlEVKmQlL+J+V6aTsNQOWFCsbGCdM+pM8tot2PHKRPXfJbWnbHbr73enptE5+r+jblnnjfdNvga27ezWcyy5sqd3Utp98BcBxxnPzYrhFAoug4U/vJAWpy73o90Mv1R2TK+q447E4JuVmsLJjv8/WupX4c9fKbrifaFKfft7eDFqw03prta2iZ+d5RpXTE98UCKlZA7LUN/bNoaXLdw5xVnBdR0OSejbSXz6tNrYeUB+d9jVZAdT4ofhdGDTBTWAib76bzyc+4hIvDXFf57DifVppY6i0PLTTfG9HCPLovbUAN8WBh0xjiOkrGY988nwefI7/1B6W6mdRLXxJDSoWxvUCDfL7GWeOjjI5JNhSQj6EBc8VSEgJ37H/486k0/2Rn3dAJZ9L8SYfpp29Y46Y8jK48HwGwobXgL+b7fEiYY3dX3euqaoLb1GoxPjLaWChzekXR4O/SPFoqaUkfdUNjmDlLxZAy7bBvD8sKKxue4va6h29Y5Lf9xfNY6fuWo5wGUPIuyT4n+fBh+TF/h74mh7xHhmwolHMKLgeWQ2T6Xd9ePnfCmQrlHN1PfdynJ/d82vFSF88UN4Ior2qNi1IKRVbx32rdiyODrMxVdZvmwTts/vlElEfzPhd5RgXDZagcV3ItVaZpWdp3hOvRDVEWOeaOHXIklOibv1Isjy++ZjM9fFvGcc2V5g4mOUZlPKe4bgPepaSNhZSpNqD2mfFLjmy5Xt5Om2QCtQ/F9h/SwBSWQ4s/TT1HdiRkT/F4rMrCyzvXc54BJcizRjqo64PmHADQcsbOiFp5PS3o2EN9eR4pi+uZ2f5bGuLB2QoJUdSP9t8dK/gsdH7MwnXO/Fi52PLQMs8r8+BuVnKqTKevXMT37qEfO0Jry0NblHI331OEXK/ebhpiO6RrZgXFMbA8XM/flv37nHe5lebPYUNwUyzo0/lk5fIOdyC4n3ZzeU2eOt+clyMhCeIZiweLLAXtMjpjCuf18G5z3ioGaGs083SAdr3JxXGiNXhm0IJT2dh5PTGDVYk36EdvHaaOU86k68wn1508hzre/LUzM1VGHflgjvV7s06P/XUvm/1T6AMnmA/aCm7HkcJRvY0JrrGjFH3V932kL0TtUBZXuwrEph1+2xclhg3uwhCzTIreJd3n0txPN7h9Wik6GbKhQM5ZXK/83sOcyJQPR32uTM5t2dnvG6FGru1OKn1NYJ0wSmn1nFIJBbcOpLxsuSbLVNW1L0sffIbzlDDCuYCiUKtcPEPc59lvr6Ab78s4vv19c4c13J0xKofcug16l8A2lstltLCnw+tz2XKdCWinpbBREG0qwUdLNkQY6/YRrX96inYOzKJPreylod1OHSkCxmMxpPr20JylW+nRr6yiOTz2ls38VdI7AABNMWZG1PKZs1jQHcz0Nnl4sxk8WETeHq2oi2fMFcipqX7xKDnXven5ALLzmWEkefewcPznaoupQ8tjaL+TpoobNwqKEtqu91cONwRRE3mLzZEdGpHPnKkdqUHQDQFpG07opOnmz2Z4jA2mwUlz6DxlrJxG550ylQb/EofYlVJTPpK77/16ei/XNkgS90mtBFqHijb+07tENkXgQnGZrYr7y3ov/CciV85ZRmjoD+ZPRhkskXHHlMk55WCKlULtgKo4Kzde+OB0mqxmd5zyULNjDsbLL4vx7T2Pek4xVqzvMLNCNo3EZjvlM1GyLiYhszMpqNuQd2GC2lgu2fn0nXSG0nYagDeDVH3TkaYZpfZhEQcGdexzHBaz6AxjrAWNxzzOy3PmzPENPwDA2DNmRlSmgK7EU/TaEe2NdgWyOiJBE09/R9dS4TbFZOczdHAMp+nyUF5BPyTRHtEgt3IrGzzk3aPCIiqgvKSJQVAdrkJn6qbq7EN7IjNcJqRPQvmon7am1iG1GlnndAF1v/lCFM53zsF+rm0Qk+6TavZFeYrF087t/pnRV0BESVoqyk/UV9bSrtorLkzOyeyUnlmQGTR/dn1C8YeDdFRFBtgyt0dirYgoyvaa8vand2i14WOq3uh8Wu2EUJbPRDUQkZAk4F2ab2PZ+Qx2dI43Rql9RKh0jLPTnVEPHI9V/U55kfokPD/HUHOpUy8BABQzduF8JtzGjeuvilIKimKyjac4FiqsbGTNRJmwhMype5PPT3nrIFbRnBEWalU9cGf9C92rvJV308Xmo4imy0NCAdx1EGnUoEj76DU7ULAQz/J8aYMuGdqg0Yppek1HEhVOVBAK03LefZV2u+uZ1OYNZgOKitz1Rj/RKWfS3SdzYb31arWwvJB8vDvCBlEcmiebafibUJxG0yexPhNtR85G1emtm4my3tHW/O5I0sDWBkDSs16V5Tctp1R4GisvP97Lffcbd1HWb5VprqRbVJ/8T7ruLPNRKGYNQiQ3uD8lZ4DUzK2jiKpt/+uuuFA5JyGPrOit/MZy6sqbhbIzWgHKWitRzppG5Yeql4qyVCnWReh2Ww0J5RopHqPKCHiX0DaWX6Y2n9fH17gdrGxwzZydobv3so+YT+pnIrSPoPHYGlqb1tCDD92db6gJJmTZndUEALSWMdxYQkIBNqoNGNzp7DLl3EPC2fr2JULYnDR4AFDbfi6115bTUJ/E6yfhvPSJQRZP3ccKJF9LTOurheTezEsdNF8eKrxAFsg633cXdW8RISyDh722+KAKeUqhwgfc0EDHAydeNS4P2cAjfkaGwp1ck1IR2YxBwta+1DlVbyChwtiqbKTwBn32dTZ+Oi/V4W+y+11y9kYMGpXupfQJNlI67L2dM8wNBjGEqJeWdR6hbckd70rTCMjHuwOc7lT6xHRJh9/5xF/r38eKOECXDw3EafOzpo+84P2uVvC7BKAMZf7fU6pqRK0/iNq57DiZvYi8DLe/rlaL3dNrb5SjpYOVwdR6hDqIf59F5UM2llHrgWIevEMvFrd9Uha7V539LSVYzhllmRXs3LVhZv2IbKixtMG+W0QcvqRDjW2ek/IjJasq/YCxhFOvVT9Aqr9rDtcwFIPXvcaG/FCfOxMhmw841/lQcr9iOJWE5qkNgNwxqpKBWv4uoW2sqEwln15omiqPedVD9ZpkwrQPFTJYTOl4LHlY6q6p0/JGyc4MQ0qFLI/0085MZxEAoBWM8RbnYCIjA6Le8akFC8tBCzG7V8kPJdfuLKgDnT9vm/Q8lCJSYVvzCY7qkyXbmut+K2FGifAmAEB7IjPI2N4cAMVxssU5mOhEnrYqYRNg7FE7RRIdHfhhGxpQVdBhbXv7YEApVIiWDg3Kr1e99TnBow3AOOEyun+lrIks3wUSAFAvMKJAC7FhE8sbXxMARhEToqIMjzHYNasuop3q9O+7jXZIUtthQ5NSIUk+OpRKb6Oc/i0jAEBbIk6vI+VbnwMA6gfhfAAAAAAAAIBxD8L5AAAAAAAAAKBNgREFAAAAAAAAABWAEQUAAAAAAAAAFWipEfW3d/9G7z3xRHMGAAAAAAAAAPUjNofYHqNFS42o1/f+hSbPfD8MKQAAAAAAAEBLEFtDbA6xPUaLlu7ON2nSJJr1j5Pp9Dn/QO89AZGDAAAAAAAAgHqRGSgxoPb94ii9/fbb5tPW0lIjCgAAAAAAAAAmGpgeAgAAAAAAAIAKwIgCAAAAAAAAgArAiAIAAAAAAACACsCIAgAAAAAAAIAKwIgCAAAAAAAAgArAiAIAAAAAAACACsCIAgAAAAAAAIAKwIgCAAAAAAAAgArAiAIAAAAAAACACsCIAgAAAAAAAIAKwIgCAAAAAAAAgArAiAIAAAAAAACACsCIAgAAAAAAAIAKwIgCAAAAAAAAgArAiAIAAAAAAACACsCIAgAAAAAAAIAKwIgCAAAAAAAAgArAiAIAAAAAAACACsCIAgAAAAAAAIAKwIiqg1WP0m9e/iU9f585P45Z/Z3t9AqXhRy/+c615lNwPKDr/klab85BC7jvSS7j7bR5lTkH4UBOAwHtoEHW0fN1jOsofzCBaKkR5SrUucfPH6XV5n4wzmHh+IVFRNvvPZdmzz2XvkbnQaEGoEZWf2A6/3uQXtmozwEAAAAwNrTUiNpw9WKlTNvjnh0jRMM76R7ns9kfu4E2mPvHmvXPtrdRl85fjmdorDw9Z0+jTkfB23D1DbRW/wkAqIG5MzpYhh6il815O9KwHM2SWzkzb3XNerZy9jQ77Zq8+XXQynGiLWZM26isK9F4vhENAMDognA+h7UXt5dRlyQ4fxtvoI+wgfpPt5nzUUJ7yQEYS8ar4hTCtTR7Gv93aF/byiihYTlaQW5pB90VTTtp6konnHX0T/yOH7n6cXM+hozROAHKaLyNjH57BuD4pj2MKOW1yvKI+QpR5OE0HjQbEpjpSTNp6iPMM5PyoDqeOj80MT+98vuupc0/t9fTyl7kSYryH3vzvPypvC2jHv6zc9Et+l7vml8usYfKf/4rz64zdzh4ZSfp6Hoo8lhK3u5c1MF/ddMK9b10vtdHZeOWSyI/Gc+J867z4d/nflbB85l4x2Q55NeDbZPr4ny73y1IV5WD9+4G9Z04714bcttjLk4/8Z6fXR46H+bIqv+SNqpJ1tuTdKG54lL9XYRk2mH1qp/l9wm3TNLt1zzH5MvrX24eMvLtvVdWnTKF5ZyQYbll4913Cy3uJBo+8Dtz0eL3i+z6ckg+OyP/cVlUTJvxy5Fx5FFhuSXklrr3qm7+q4MW3+4/X6eTzHf1dpNKJ9l/3SNTRsTX3bKRMvDloS+v0uWYzHu6vcZ5Tdyb2YcDSJS3kF2uWXn28+BeU2nk1FsuBXJTk/+8TNS75YyPDn4dJt+b8fpKmBxSeN/LTjsq6+jdbfo5bSSRph2DUmWfeFZ4X67ef/LxnxXURkvbgJ9msn9UbiMA1EB7GFG37aIB/q+nNzlILWEhOEhPux6ZzoV05+3T6Om5JhzwiUHquSrRoaQzXjU9Wptzz47ptCJPSQlA0r9zxjb9vLlfpe3DPDBmCIXy+6STsyJ0aKu5ZysdYAGfFgb8PR6EBp6QexbTiqz1D8qLuFWV2/COr+r0Sr2/MqDfQjO3Sbp83LuThruXpQdRp+zk+FmvHoyKEO+zCtfk+tqsvpfIN9fbimi9lPWUmfIgJ8Qzqz4VkvdlRKpMzqXNg7q8RWmOP+NB+8aAepb20btLP0+OjHLQ5NdD56Jlcb4vNnVcku7afs40p/lx7zlcBktY4RjcptPngdJdVzZ72zS6M2QAYpSysORQVJZZ5SED6opptry5jU5blhhsQtpoRr3de4g+qpRGh4beRdLmHD9svsNHaL0qLyy3H6KR6JnKm/vSIRrmT2d8wB9UV39nNRsl3F5VvzGzPAoZrE0/kTrktvsZ5/2Vgjx/j353uZ6sU6PsXHrA9Es+7jmwIFZIpJ3cvpAOmHYrZTzAz/hCYtBXffH2efQr8y66fxEd+KMjD9Wz/H7ROf+8/LKS+/nZZGWG+o70rQwFUmTty0tov60/LtvORasbVqxC5agltz4zabzdeNx2RfR9e+hy5zxsjvMqdfMFbjXRfYmyScvDohmfjP5UKAeLZfhooPqOk9+nZ8Qyolq9MQHyuOh5mQSMj6Xt0fSVqJ8+cZCNwox+kqRKHysYYzxSMkPWHC9RTpUgSvtyTf1HMDKpx1m6cc+BJcVGTUAbWP8spzlox6Wv0v4lvpFXuY0AUANtEs63jn6m9MsFjpC5li6cz0rZ4C5/alp1TGe6+rbvs/BjgRgZYCwMWCkd3rEhEkgbrt6mlBRXEaqEdFyrKNPj9Moh/m/arLRwKbvvviu10hbds46+ywNtz5K0oBKh2oowCy/djfvoAP8XK5e6zN2yE9ZerAej5pABNTFIqPLgzx92BjdWYpSBVFImLx/QCmXqs85pNFef5iOKUlQHTKocYnLrQdph0mgtSzfLWbDqPPooD4QD/eYzta7MIZlmEYk8pcqDB7dLu93yfpxWbJPB9Mq434W00ax6Y6Xla0bJj2joXThPH/PbSXC9MpkbL5h66JzxIX2uWEefYaNv4AkrSz5EMyWzh6bRZ4yykVXvojyv6LaGF2PSjmEDzChQruK44eorzDvxdaM0xelr+ecZP6xU3KkM0LgsNvzxIP87Qvtf0ufus5L9Io/1KxZSJ7eTrzl50/27my5NKTmJPquM0Q6aebY5r0qoHG2I5tpNLqoe0jJRDAXPMGimbJqQg0Wyq5WotXkOYjRmyskQAuRxrc+zlLRH1Vf4nug5StfI6ic+1fpYwRjjsL5XHG1OXpgNV29Quk8YZX25vv6j3l+e57TnVH9JUtoGXCeXkM5vS9oIACW0zZqolJc+qVzm8jg9t5s7uxV+5nuet9bQ6EBTngdN2X1KEGYtCk8JqkH6WUs6f0m6BWXXNMN76DlH4Am6PNKfq7bQOY8u9DzeWXlvVTlZ8tMf3v2jWOEJJu0sWH3hPB5wnOeYwU3CYKp60crypJ+VtbPbdJptyjqkjSpDJaPeUjTxLo2SvfHC72i/KBuugiReTVZ0vmvLfdUsmiH/d3fTDFdhVoagNVy04TW84/uRE8fOltv6U+cJBcrFXo+em0naESQkDcT0TL3JX247WEcfl+pNXc8w4oSQOq5AqBxtH7TBK8proQLYJM3LwdFHK9gyuxEwM1MDrXhecXs0fSUVOsvZ8JwxSSr2saD6zM9LMDX35Xx0Xut/njFyu5flhj6PdpsEQGifjSUSXnql8JUqG/noUC97lIejjRqqk8d503HzYNSR8IFWtI+SdH1ngZ35i5VyNwzFtuF6DRAJK7H540OUxCQlbTTp8cul4XeR0JL85+eTt/GCGYCtIch1tMKbkWPsrFlCYfYU3PsWcH2O0K+ek+s6j3q2KA5PVfWZa8TkXU/k28xM6OcYVklopGsgJmbqVbvT4S6tVPjbm0bbTRaSlvRfd1bWR68/Mc+7Xbzvxw9xyJ6VJ00qriVys/bnBRKtp1LHLdwvzYUJSZ39pwHKxk4bImvHp4QxNVZtBBzftI8RRTpsSHvpyzyqPp5SZ6aBZYo8iq81x1grF8pTwoZhFPceHW2ym84YhYZk07rfwlELbb11X3WEKwam64afZinLCr07k/1+z1XNLPCN0eFg8RqN+IjDIupvoxXfRcXTu2uy4rVA5eiQvCyPrXovNeOmZxeyZ3nYsHLWvUQeYCOH9D16Zk0UKr0uxQ0p0c/Pn8nNuZ6YdU/PTLByc6NR0iMD0YQfimdWFAa7Fi5H4Q+izXf9K6SpdpNGr5eTEKisdm8N6INxX1Jr41pB6+Rg00gIlry7VVwbXHccLI9rel4YevY6Wk/lHqPex3ReimfAmqS2/mNm/SsS2gaUoWTzJsZUck3lqLYRANrKiOIO8tweHoi66ePPuh7fMrQXNza4dCdOblLRDiglNhWe0QyNCax8tCHrrZHhz56vc6bGITtcxSqRrfotHKMYJ5To5glN14Sfdi+g53PCeGLYAFHKWRPrUFxUeF1yYwufkDaqwyaqxsqHvYsNb8zz/hdiQvKyjBhtQHbQR2/M2KyG0Y4YX2G1IX9eaJ5jYDYab590Utg1FHrWPT2btv5ZUW4GlVKRNBAjZ1FyfV4meSFFNYQLtQrVZstpqt0kuS97HVSENXqj9XTZ6DZXztjIwQqoGdgCWHHVSq0jEwLrLVxuOmQ9L5Nmxkc9e124SUsmrehjeu0qdS9JbARR38xYff3HzvpX0XOqtwExpmTNYO6ayuA2AkBztJURRRt/RL8SA6ibe5TdrSxJwvtgd9iKlSIWOA/rnV2SW3+O+ZaX3LHVjjfeDj9ipDQ67dyooM9HCyc7HS7HAvpZnmewWdSsTGIHIBVqxQrKthClsBHSXj2lLPP/zXn6wtO1zoKejPdUIUJu+zaDWy3rIMzmD/5skAzGznlAG1UbtXD+3UXSku9k+Ecj76IVz3iNVhTG5n6WR3IjCxej1HV2uptJWIzh4iis4hn1NpBgtIGZ3KDGLT/jwPE2A3DLzrQRp79KGfnPMUqIQeWDttLszYcSBmLWsxgJiUl6Zx3WbmbZyO/g7gSo22nasGwL1Ow4G78XFsvuptqNh56pLFwHlbHo3c4UegZygNNCMSZyMJtUOUp76uV8mFONnomLQ3MToaVCYL2Fyc2A52XS3PioNoNIznaU9C+hJX1MGQVkZsHl4Dd6WHYUNNebpL7+Y8qN694bQzi953P1r5A2IHLUHbeM4RU5zxttIwA0R3sZUSz0lJeeyV30ObyTNh9YYgSJDalIKEWyFuPenUROPLNsZdoOawUkrtc3UmQnsEZDpRxBL2mVCPdQJI96Sl2OxvNWjuywwwMBmfzLkdq5rG5iI9u2DdmKWnmt5LOGy7BCusZZwBI+ZVCocIX+BVEame27CSR9fzCWsDR/l6PyNqpnlZL9S72rQ0PvEhlx5tnq5wzsoFwSCmhDJdX6q4Rjwii+yR2uNCY0zvYjPpThksyrUmTECDV5U4coM7b8pD07/VEd4oSw6aSv663S/eeomQnTjj7ez31QvMPeBhdC1rP4kG2Ci7zJGbJRGXE1trF64bb2hOwgqfObu6aumXbjoDfrYJx+HB1RaJCfJxvaqbaX588iZ13ktJB7ivIgdVmfHFTOC06jIaehauOOfFDtaZe5aJH8yk9fmHtsGJjX7gLrTdIqlZshz8umufGR30HakNsWJGy27Lkt6mNKnqoxWQ5fZjdNTf1HI+Vmtoy35XYj0Xdz9a+QNiBpsrl0o0nv5WU0w9sBtbyNNNUvAMjhPadPnfZ383dboD3a2cqW8srKb9wEha6A2hDvm4pXrllwH7eI1yxcEQDNUyRX1HoA8xss2BIXTASkvcvvWBU6DlW7l98hg1wfl0BuATDmtNlMVHoLYTDKiMHkefFZ4Xd/DBY0j/1dGG8TA9A6SuRKapYHgPGMDmXK3OBEFG8zI6PDa9t44woQI/WWmM3011ICAMaCtjKidChF6IYSoCWocI7pTigXZkzqxRilo/a7Hcc7Muu3rPi3m7J+oBeAcYpaJ0w5yrWEGJpweH97ftDWSIjgEwfjcDs+EJUDwNjTduF8AAAAAAAAANDOtFk4HwAAAAAAAAC0NzCiAAAAAAAAAKACMKIAAAAAAAAAoAIwogAAAAAAAACgAjCiAAAAAAAAACAYov8PKLiwr8CkImUAAAAASUVORK5CYII=)"
      ],
      "metadata": {
        "id": "DerTzt-fLj_o"
      }
    },
    {
      "cell_type": "markdown",
      "source": [
        "### Permutation\n",
        "\n",
        "\"An individual for the permutation representation is almost similar to the general list individual. In fact they both inherit from the basic list type\"\n",
        " https://diigo.com/0qazc1"
      ],
      "metadata": {
        "id": "z_qE26c8FDr8"
      }
    },
    {
      "cell_type": "code",
      "source": [
        "import random\n",
        "\n",
        "from deap import base\n",
        "from deap import creator\n",
        "from deap import tools\n",
        "\n",
        "creator.create(\"FitnessMin\", base.Fitness, weights=(-1.0,))\n",
        "creator.create(\"Individual\", list, fitness=creator.FitnessMin)\n",
        "\n",
        "IND_SIZE = 10\n",
        "\n",
        "toolbox = base.Toolbox()\n",
        "toolbox.register(\"indices\", random.sample, range(IND_SIZE), IND_SIZE)\n",
        "# toolbox.indices()\n",
        "# [5, 8, 7, 3, 9, 6, 4, 0, 1, 2] -> random array from IND_SIZE\n",
        "toolbox.register(\"individual\", tools.initIterate, creator.Individual, toolbox.indices)\n",
        "# toolbox.individual()\n",
        "# [0, 3, 2, 4, 6, 1, 9, 8, 7, 5] -> It's a list that we get from toolbox.individual()"
      ],
      "metadata": {
        "colab": {
          "base_uri": "https://localhost:8080/"
        },
        "id": "grbf2BngLnXR",
        "outputId": "5da77642-5c04-44de-a84e-b342bce9ef82"
      },
      "execution_count": null,
      "outputs": [
        {
          "output_type": "execute_result",
          "data": {
            "text/plain": [
              "[5, 8, 7, 3, 9, 6, 4, 0, 1, 2]"
            ]
          },
          "metadata": {},
          "execution_count": 1
        }
      ]
    },
    {
      "cell_type": "markdown",
      "source": [
        "### Arithmetic\n",
        "\n",
        "\"PrimitiveSet must be defined containing all possible mathematical operators that our individual can use.\"\n",
        " https://diigo.com/0qb1iv\n",
        "\n",
        " the individual is initialized using the initIterate() function to give the complete generated iterable to the individual class."
      ],
      "metadata": {
        "id": "ZysLy2SjFF0Z"
      }
    },
    {
      "cell_type": "code",
      "source": [
        "import operator\n",
        "\n",
        "from deap import base\n",
        "from deap import creator\n",
        "from deap import gp\n",
        "from deap import tools\n",
        "\n",
        "pset = gp.PrimitiveSet(\"Main\", arity=1)\n",
        "pset.addPrimitive(operator.add, 2)\n",
        "pset.addPrimitive(operator.sub, 2)\n",
        "pset.addPrimitive(operator.mul, 2)\n",
        "# pset\n",
        "# <deap.gp.PrimitiveSet at 0x7fecdba784d0> -> memory allocation\n",
        "\n",
        "creator.create(\"FitnessMin\", base.Fitness, weights=(-1,0,))\n",
        "# creator.FitnessMin()\n",
        "# deap.creator.FitnessMin(()) -> It's a class that we made\n",
        "\n",
        "creator.create(\"Individual\", gp.PrimitiveTree, fitness=creator.FitnessMin, pset=pset)\n",
        "# creator.Individual() -> error\n",
        "\n",
        "toolbox = base.Toolbox()\n",
        "toolbox.register(\"expr\", gp.genHalfAndHalf, pset=pset, min_=1, max_ = 2)\n",
        "# toolbox.expr()    -> run this if you want to know about memory allocation and class.\n",
        "toolbox.register(\"individual\", tools.initIterate, creator.Individual, toolbox.expr)\n",
        "toolbox.individual()"
      ],
      "metadata": {
        "id": "67GW6q8sSWXQ",
        "colab": {
          "base_uri": "https://localhost:8080/"
        },
        "outputId": "84035785-588f-4427-bcf0-c2c2961e439e"
      },
      "execution_count": null,
      "outputs": [
        {
          "output_type": "execute_result",
          "data": {
            "text/plain": [
              "[<deap.gp.Primitive at 0x7f1f15792b90>,\n",
              " <deap.gp.Terminal at 0x7f1f157975a0>,\n",
              " <deap.gp.Terminal at 0x7f1f157975a0>]"
            ]
          },
          "metadata": {},
          "execution_count": 1
        }
      ]
    },
    {
      "cell_type": "markdown",
      "source": [
        "### Expression"
      ],
      "metadata": {
        "id": "-WDzbIdCFHmK"
      }
    },
    {
      "cell_type": "markdown",
      "source": [
        "### Evolution Strategy"
      ],
      "metadata": {
        "id": "ABMU4pK-FLJ4"
      }
    },
    {
      "cell_type": "code",
      "source": [
        "import numpy as np\n",
        "import random\n",
        "\n",
        "from deap import base\n",
        "from deap import creator\n",
        "from deap import tools\n",
        "\n",
        "creator.create(\"FitnessMin\", base.Fitness, weights=(-1.0),)\n",
        "creator.create(\"Individual\", np.ndarray, fitness=creator.FitnessMin, strategy=None)\n",
        "creator.create(\"Strategy\", np.ndarray)\n",
        "\n",
        "def initES(icls, scls, size, imin, imax, smin, smax):\n",
        "  ind = icls(random.uniform(imin, imax) for _ in range(size))\n",
        "  ind.strategy = scls(random.uniform(smin, smax) for _ in range(size))\n",
        "  return ind\n",
        "\n",
        "IND_SIZE = 10\n",
        "MIN_VALUE, MAX_VALUE = -5., 5.\n",
        "MIN_START, MAX_START = -1., 1.\n",
        "\n",
        "toolbox = base.Toolbox()\n",
        "toolbox.register(\"individual\", initES, creator.Individual)"
      ],
      "metadata": {
        "id": "D12_dXxl-XNT"
      },
      "execution_count": null,
      "outputs": []
    },
    {
      "cell_type": "code",
      "source": [
        "# for _ in range(5):\n",
        "  # print(\"I \\n\")"
      ],
      "metadata": {
        "id": "GmlI9FoO_nMS"
      },
      "execution_count": null,
      "outputs": []
    },
    {
      "cell_type": "markdown",
      "source": [
        "### Particle"
      ],
      "metadata": {
        "id": "WLSWT3yAFN5U"
      }
    },
    {
      "cell_type": "code",
      "source": [
        "import random\n",
        "\n",
        "from deap import base\n",
        "from deap import creator\n",
        "from deap import tools\n",
        "\n",
        "creator.create(\"FitnessMax\", base.Fitness, weights=(1.0, 1.0))\n",
        "creator.create(\"Particle\", list, fitness=creator.FitnessMax, speed=None, smin=None, smax=None, best=None)\n",
        "\n",
        "def initParticle(pcls, size, pmin, pmax, smin, smax):\n",
        "  part = pcls(random.uniform(pmin, pmax) for _ in range(size))\n",
        "  part.speed = [random.uniform(smin, smax) for _ in range(size)]\n",
        "  part.smin = smin\n",
        "  part.smax = smax\n",
        "  return part\n",
        "\n",
        "toolbox = base.Toolbox()\n",
        "toolbox.register(\"particle\", initParticle, creator.Particle, size=2, pmin=-6, pmax=6, smin=-3, smax=3)\n",
        "toolbox.particle()"
      ],
      "metadata": {
        "colab": {
          "base_uri": "https://localhost:8080/"
        },
        "id": "_ArVld0GHYsM",
        "outputId": "ed1f3657-ce82-4657-b6df-40f722e27c72"
      },
      "execution_count": null,
      "outputs": [
        {
          "output_type": "execute_result",
          "data": {
            "text/plain": [
              "[-0.0032642176616075602, -4.149337335134595]"
            ]
          },
          "metadata": {},
          "execution_count": 1
        }
      ]
    },
    {
      "cell_type": "markdown",
      "source": [
        "### A Fungky One"
      ],
      "metadata": {
        "id": "oSuGKKDrFPRq"
      }
    },
    {
      "cell_type": "code",
      "source": [
        "import random\n",
        "from deap import base\n",
        "from deap import creator\n",
        "from deap import tools\n",
        "\n",
        "creator.create(\"FitnessMax\", base.Fitness, weights=(1.0, 1.0))\n",
        "creator.create(\"Individual\", list, fitness=creator.FitnessMax)\n",
        "\n",
        "toolbox = base.Toolbox()\n",
        "\n",
        "INT_MIN, INT_MAX = 5, 10\n",
        "FLT_MIN, FLT_MAX = -0.2, 0.8\n",
        "N_CYCLES = 4\n",
        "\n",
        "toolbox.register(\"attr_int\", random.randint, INT_MIN, INT_MAX)\n",
        "toolbox.register(\"attr_flt\", random.uniform, FLT_MIN, FLT_MAX)\n",
        "toolbox.register(\"individual\", tools.initCycle, creator.Individual, (toolbox.attr_int, toolbox.attr_flt), n=N_CYCLES)"
      ],
      "metadata": {
        "id": "QFJNE9FFM_Ku"
      },
      "execution_count": null,
      "outputs": []
    },
    {
      "cell_type": "code",
      "source": [
        "toolbox.individual()"
      ],
      "metadata": {
        "colab": {
          "base_uri": "https://localhost:8080/"
        },
        "id": "ls7j3dtdPycy",
        "outputId": "a0a240a0-416a-440b-bd0b-99d0d7b25158"
      },
      "execution_count": null,
      "outputs": [
        {
          "output_type": "execute_result",
          "data": {
            "text/plain": [
              "[7,\n",
              " -0.14357257049563749,\n",
              " 8,\n",
              " -0.0016218300503318406,\n",
              " 5,\n",
              " 0.03573055243957929,\n",
              " 6,\n",
              " 0.30768611881424063]"
            ]
          },
          "metadata": {},
          "execution_count": 2
        }
      ]
    },
    {
      "cell_type": "markdown",
      "source": [
        "## Population\n",
        "\n",
        "Populations are much like individuals. Instead of being initialized with attributes, they are filled with individuals, strategies or particles."
      ],
      "metadata": {
        "id": "3yBIDfIcFSYJ"
      }
    },
    {
      "cell_type": "markdown",
      "source": [
        "### Bag\n",
        "\n",
        "A bag population is the most commonly used type. It has no particular ordering although it is generally implemented using a list. Since the bag has no particular attribute, it does not need any special class. The population is initialized using the toolbox and the initRepeat() function directly."
      ],
      "metadata": {
        "id": "JTka14_QFTwC"
      }
    },
    {
      "cell_type": "code",
      "source": [
        "toolbox.register(\"population\", tools.initRepeat, list, toolbox.individual)"
      ],
      "metadata": {
        "id": "2nEmtnLhcZ4m"
      },
      "execution_count": null,
      "outputs": []
    },
    {
      "cell_type": "code",
      "source": [
        "toolbox.population(n=100) # take integer as parameter"
      ],
      "metadata": {
        "id": "C0xJ_eNRhuSF"
      },
      "execution_count": null,
      "outputs": []
    },
    {
      "cell_type": "markdown",
      "source": [
        "### Grid\n",
        "\n",
        "A grid population is a special case of structured population where neighbouring individuals have a direct effect on each other. The individuals are distributed in the grid where each cell contains a single individual. However, its implementation only differs from the list of the bag population, in that it is composed of lists of individuals."
      ],
      "metadata": {
        "id": "FcWXQPBbFWX6"
      }
    },
    {
      "cell_type": "code",
      "source": [
        "N_COL = 5\n",
        "N_ROW = 5\n",
        "\n",
        "toolbox.register(\"row\", tools.initRepeat, list, toolbox.individual, n=N_COL)\n",
        "toolbox.register(\"population\", tools.initRepeat, list, toolbox.row, n=N_ROW)"
      ],
      "metadata": {
        "id": "xZnNR3DLE2EN"
      },
      "execution_count": null,
      "outputs": []
    },
    {
      "cell_type": "code",
      "source": [
        "toolbox.row()"
      ],
      "metadata": {
        "id": "g9vzMbYZtzL-"
      },
      "execution_count": null,
      "outputs": []
    },
    {
      "cell_type": "code",
      "source": [
        "toolbox.population()"
      ],
      "metadata": {
        "id": "LthSfzpkt84C"
      },
      "execution_count": null,
      "outputs": []
    },
    {
      "cell_type": "markdown",
      "source": [
        "### Swarm\n",
        "\n",
        "A swarm is used in particle swarm optimization. It is different in the sense that it contains a communication network. The simplest network is the completely connected one, where each particle knows the best position that has ever been visited by any particle. This is generally implemented by copying that global best position to a gbest attribute and the global best fitness to a gbestfit attribute"
      ],
      "metadata": {
        "id": "_rZBGzO0uWP-"
      }
    },
    {
      "cell_type": "code",
      "source": [
        "creator.create(\"Swarm\", list, gbest=None, gbestfit=creator.FitnessMax)\n",
        "toolbox.register(\"Swarm\", tools.initRepeat, creator.Swarm, toolbox.particle)"
      ],
      "metadata": {
        "id": "CmB6SfO3uw3t"
      },
      "execution_count": null,
      "outputs": []
    },
    {
      "cell_type": "code",
      "source": [
        "toolbox.Swarm(n=50)"
      ],
      "metadata": {
        "id": "csHUWKjI4c0j"
      },
      "execution_count": null,
      "outputs": []
    },
    {
      "cell_type": "markdown",
      "source": [
        "### Demes\n",
        "\n",
        "A deme is a sub-population that is contained in a population. It is similar to an island in the island model. Demes, being only sub-populations, are in fact not different from populations, aside from their names. Here, we create a population containing 3 demes, each having a different number of individuals using the n argument of the initRepeat() function."
      ],
      "metadata": {
        "id": "xRCtR1rZuYgw"
      }
    },
    {
      "cell_type": "code",
      "source": [
        "toolbox.register(\"deme\", tools.initRepeat, list, toolbox.individual)\n",
        "\n",
        "DEME_SIZES = 10, 50, 100\n",
        "population = [toolbox.deme(n=i) for i in DEME_SIZES]"
      ],
      "metadata": {
        "id": "R-Jsl88h5Qtr"
      },
      "execution_count": null,
      "outputs": []
    },
    {
      "cell_type": "code",
      "source": [
        "print(population)"
      ],
      "metadata": {
        "colab": {
          "base_uri": "https://localhost:8080/"
        },
        "id": "N0s4sA1O6E_q",
        "outputId": "166c65f7-75c8-44a7-ed9b-60ad7933c17d"
      },
      "execution_count": null,
      "outputs": [
        {
          "output_type": "stream",
          "name": "stdout",
          "text": [
            "[[[8, 0.07410112252095374, 6, 0.27886440415674535, 6, 0.26673962161745707, 6, 0.2136873830948079], [8, 0.364752769291198, 8, -0.11951079780343316, 6, -0.12650743953697868, 10, 0.09970601050587452], [5, 0.7419678302523909, 5, 0.14629649344037204, 10, 0.04526604801523043, 5, 0.331074009318238], [8, 0.37682980993919196, 8, 0.6652606621993318, 7, -0.07567825725103167, 9, 0.13665712108551303], [9, 0.3622993403303231, 7, 0.7027477759158014, 6, 0.5429314882266392, 10, 0.12579051273423975], [10, 0.6884079026953804, 7, 0.6750171928985171, 7, 0.20842645033986235, 10, 0.4700617051705372], [9, 0.757390003494508, 9, 0.05069487663534783, 7, 0.5336820168383678, 9, 0.2589955314808052], [9, 0.06248914675154632, 5, 0.007379464340765363, 6, 0.6130004954263524, 10, 0.37762027705746143], [6, -0.022052368318056403, 7, 0.5669449788371232, 5, -0.1599668240296333, 5, -0.016497092201579966], [5, 0.1163478729714274, 8, 0.0025333654533445382, 9, 0.11499112432362762, 8, 0.7578199045740153]], [[8, -0.1548713072679488, 10, 0.1164367814837663, 8, -0.08353462914598081, 8, 0.6419845783047404], [5, 0.7818325027244593, 7, 0.5346930162753645, 5, 0.07296667503795778, 5, 0.4150752572389838], [8, 0.42358651271203346, 9, 0.05181927063233277, 7, 0.5527071831264145, 5, 0.5578692826572986], [5, 0.6746630298720677, 7, 0.6467500564653659, 9, 0.04456676716966351, 5, 0.35049612732309116], [5, -0.09917838818070562, 6, 0.3916074495533572, 5, 0.438488820380538, 5, 0.12159581513888379], [10, -0.14755378903200927, 6, 0.34732312580818275, 6, 0.5332454600059249, 7, -0.08940640816929851], [8, 0.7501595538761248, 10, 0.7822881623330951, 8, 0.45267298314922094, 5, 0.18276797202766165], [7, 0.7815666964595418, 10, 0.4845917814868344, 6, -0.11416332247255995, 7, 0.6542132783757506], [7, 0.1825512134440112, 7, 0.10524287543703809, 7, 0.7808932223161302, 9, 0.7724430049032205], [10, 0.17602425520104475, 5, 0.13585681919426335, 6, -0.0968294843124256, 10, 0.10647708217496948], [7, 0.07101679085392693, 7, -0.11667183553368715, 8, 0.03224477460698988, 6, 0.19282972030218498], [5, 0.061904717447222535, 7, 0.6211071537153163, 9, 0.7423151322256916, 8, 0.5825718948238972], [7, -0.021208409980855325, 8, 0.502990277105819, 8, 0.5258008210919172, 5, 0.616875011489517], [6, 0.7652627016893143, 10, -0.02703021590646454, 7, 0.6940649606290352, 6, 0.14509525190599154], [6, 0.6297884952140242, 8, 0.2563322946108441, 9, 0.3848586270427244, 5, 0.41409213545925055], [6, 0.2441047182408636, 9, -0.097647874004618, 5, 0.6702124657039727, 6, 0.548615392278657], [8, 0.4624948218771569, 7, 0.5415406394597408, 10, 0.07791977736421424, 10, 0.6824473514052258], [5, 0.032756784550589446, 10, 0.7825442359554347, 8, 0.2516871502506722, 5, 0.7183882320946118], [6, 0.2718079771172633, 9, -0.025119513462171283, 8, 0.1826684595599159, 10, -0.007452313458116977], [10, 0.6585764261190055, 7, 0.7772187990484638, 10, 0.39678774361731134, 8, 0.42946722558512634], [5, 0.2513061980772428, 8, 0.7825565794599345, 8, 0.06335870738228394, 9, 0.6008606729632615], [9, 0.4164213659779041, 9, 0.6572857708306923, 5, 0.5509719660297729, 8, 0.15928621849763275], [9, -0.09845156951037864, 9, -0.1468770503911248, 5, 0.3397971130894633, 10, 0.4055156859602996], [8, 0.42156064834046475, 8, 0.4970009975266964, 9, 0.13306428510358265, 8, 0.5220412722128878], [7, 0.5035036997579618, 5, 0.2516970047345057, 5, -0.1445054296489004, 7, 0.7428836456517036], [7, 0.637525250973386, 7, 0.4226276867554322, 6, 0.022688141920519656, 6, 0.14980790325651244], [10, 0.22505624466327473, 8, 0.2671858313848315, 7, -0.09422688179328215, 9, 0.6980460598655511], [10, 0.20097613673149978, 10, 0.07773755112443187, 8, 0.5056971875754206, 6, 0.1424138477586782], [9, 0.34971265739287644, 9, -0.11272847385956114, 5, 0.6489208178421184, 5, 0.47115744976679913], [5, -0.17774462052814471, 8, 0.3369212811219023, 8, 0.08719857146773674, 8, 0.0990821280422351], [9, 0.25313458158180563, 7, 0.4586280122027209, 5, 0.6127274896081369, 5, -0.015051467077948077], [7, 0.5069050875780352, 9, 0.6957964883619714, 6, -0.17624451311852302, 10, 0.7109767344347262], [8, 0.5974934332291195, 8, -0.014230916244032887, 9, 0.7988623694348609, 5, -0.027927208335715437], [5, 0.2577799108030469, 10, -0.19419508584387085, 10, 0.07702708041334544, 8, 0.4704956124748138], [10, 0.3825623209030082, 10, 0.6493805915095405, 5, 0.26225351446158723, 7, 0.13254605334428987], [7, 0.3558094790396999, 5, 0.7389666057993103, 8, 0.4457908835402152, 6, 0.33645593248235445], [10, 0.43710307138058097, 5, -0.0063949241543411195, 8, 0.26943543697936395, 5, -0.025226678700513594], [8, 0.3566606150971637, 8, 0.4585416990943651, 7, 0.5224577209044077, 10, 0.1279684468436159], [5, 0.6337434301434393, 7, 0.2557678502926661, 5, 0.1476388412178246, 6, 0.5643354804708953], [9, -0.19294422869451405, 10, 0.27849804536711215, 9, 0.47148051680312736, 5, 0.7273040075598791], [9, 0.025051089937896454, 8, 0.4682300060336135, 6, 0.33773470032342584, 6, 0.4063056517900003], [8, -0.06939267549517841, 9, 0.21589358280491505, 10, 0.12300615682446675, 5, 0.4317233687379947], [5, 0.6411040031354001, 7, 0.678692792130734, 9, 0.6633066849287366, 5, 0.27800509610626506], [8, 0.21087078271217946, 5, 0.0908367115549033, 8, 0.2516633048601475, 9, 0.5943713680489353], [10, 0.384509662311541, 10, 0.398963409443793, 9, 0.4486216142839328, 6, 0.3510279196201333], [7, 0.514466260777098, 9, 0.5457242301197813, 7, 0.7118703078071718, 10, 0.6131728260433078], [5, 0.2571777159524418, 9, 0.2274096297662141, 8, -0.03753972725027516, 5, 0.3221866316614614], [7, 0.4029391161336234, 6, 0.1158392735897667, 9, 0.6497776770514305, 10, -0.055957368108215], [5, 0.03243577188618357, 6, 0.7518206048043841, 8, 0.44425775569607945, 7, 0.2527794188727201], [5, 0.5796514408806681, 6, 0.20534093373090428, 7, 0.6190743385953481, 5, -0.13435545168008217]], [[10, -0.06382399237503217, 8, 0.5202820121319212, 10, 0.6892374323952679, 9, -0.011059396681889655], [9, 0.7856866835787062, 8, 0.4557667963901724, 6, 0.5431346929036709, 5, 0.7231107101293961], [10, 0.6580667646812208, 9, 0.1453614025845274, 7, 0.6397876278595178, 9, -0.029157622060060395], [10, -0.18441842395750002, 5, -0.055710026213380004, 5, -0.18019138937837048, 5, 0.23322933657036388], [7, 0.6053071425685868, 7, -0.08354494965910814, 7, 0.7144669155681802, 6, 0.2625941139527253], [7, 0.043837791121039194, 10, 0.48009985706441277, 5, 0.7196940379794527, 9, 0.5881491149857783], [9, 0.14224342486754699, 7, 0.6814823221674526, 8, -0.032987076551190875, 7, 0.5345745836737636], [9, 0.41392252336176233, 9, 0.3772730884360513, 7, 0.6730591462170648, 9, 0.5344890302498007], [8, 0.04511590017438155, 7, 0.49157222722144883, 6, 0.5315864127413077, 5, 0.4465590308365391], [6, 0.6598166914656807, 7, -0.11713432495172876, 10, 0.5526055761367545, 8, -0.10301986322660878], [10, -0.008472085614461056, 7, 0.19476127914214753, 8, 0.28901795469701547, 7, 0.7226113756061456], [9, 0.4907973174855608, 6, 0.2862180672707339, 6, 0.5397665028708578, 9, -0.07274306647522727], [5, 0.0639453831726044, 10, 0.05388587776311521, 5, -0.17405477093208538, 6, -0.05276771978624534], [8, 0.44503865498862566, 8, 0.7794430475546024, 5, 0.4403454665782324, 8, 0.6889193760665], [6, 0.2105510341109445, 9, 0.47485283130528716, 10, 0.13096042166149074, 9, 0.265986632890375], [5, 0.3750107264283988, 10, 0.22838092362425672, 9, 0.053867000623449235, 9, 0.7997054314932628], [6, 0.2839738883731196, 9, -0.17688489644167543, 6, 0.32214117961580485, 9, 0.5207788851518393], [5, 0.5450672026205761, 8, 0.391550560832114, 7, 0.650309957332907, 9, 0.3259192397285922], [10, 0.08893958352135173, 8, 0.4360229061727488, 10, 0.11118728027066477, 9, 0.05501366648548539], [5, 0.7641887429440881, 8, 0.08624484488711065, 9, -0.01483660580568319, 8, 0.5517103075959251], [8, 0.5249001673672207, 7, 0.5712305845646948, 10, 0.03809869444857045, 8, 0.11022029861501109], [5, 0.3727545644677763, 5, 0.7985481788984212, 8, 0.17918500005868293, 10, 0.49868431127653484], [7, 0.6080358031046631, 9, 0.04733458387177231, 5, 0.589578014491051, 5, 0.40647699924980346], [8, -0.132137120724859, 9, 0.5358862119793824, 10, 0.13018508221403285, 8, 0.5458554751150249], [5, 0.686053659118598, 10, -0.06283744394627838, 9, 0.5718276903654975, 7, -0.17474517348189528], [10, 0.6050759770172511, 10, 0.1980083053383575, 7, 0.296747461755645, 10, -0.09838680277358586], [7, 0.05276055329900281, 6, 0.7886601635123334, 10, 0.4399969921716658, 10, 0.36563477924118176], [6, 0.6465729352211091, 8, 0.4392661639987074, 5, 0.060877719823796694, 6, -0.1771706517494634], [9, 0.07182342125247104, 8, 0.5727591239655785, 8, 0.029387385156150747, 5, 0.2649973349854971], [6, 0.2519181488588383, 10, -0.14241140110626077, 7, 0.02689255104736915, 9, 0.5317331825529443], [7, 0.7242781711947508, 7, 0.5909089960932703, 8, -0.04144739167000949, 10, 0.7429608814308792], [8, 0.15468589681788375, 6, 0.19068549720354683, 5, 0.5184720197506671, 9, 0.432112346066095], [10, 0.6666720548080891, 9, 0.5318551033783094, 9, -0.16208856177169978, 9, 0.7707420580464035], [7, 0.4505830129173484, 10, -0.18180556168175183, 5, 0.6596026358279783, 5, 0.6724141748902752], [5, 0.23904553469520823, 10, 0.28640582194796155, 10, 0.24824338213295788, 7, 0.7131776529237277], [5, -0.15008508241968127, 7, 0.5918966459557258, 9, -0.18855955730156643, 8, 0.0797417530735422], [9, 0.4795696575453288, 7, 0.7261146875435165, 9, 0.5488211509920864, 7, -0.08431398070760682], [8, 0.6505098130637836, 8, 0.7227648269395619, 8, 0.1864810161483143, 10, 0.10705521951264946], [9, -0.19084784093154145, 7, 0.4498024142885934, 6, 0.4785159351033193, 5, 0.36123797774385696], [10, 0.2561408351046783, 5, 0.0811270032008336, 10, -0.017871681920086868, 8, -0.08983424667506507], [5, -0.024200872095927528, 5, 0.6569634987120123, 10, 0.5704252042435924, 10, -0.17180965201152448], [7, 0.058193487654317366, 8, 0.5306815439831085, 6, 0.6826674001613438, 9, 0.5044497278033424], [5, 0.5164821546377403, 7, 0.18698735328683186, 7, -0.15010074630112064, 9, 0.20222141168821056], [5, 0.04231479120766274, 10, 0.05375017409107524, 7, 0.31821003952325705, 7, 0.5846688385984906], [6, -0.12873953549845601, 9, -0.06689865828583791, 6, -0.01377043371684844, 10, 0.41239691977759635], [7, 0.4577242089945835, 6, 0.3538948088478346, 6, 0.5782623780057252, 9, -0.059038445208470625], [6, 0.7487144249796343, 5, 0.7465970928504075, 6, 0.3971178810517842, 7, -0.017852580919819616], [9, -0.0578440409809699, 10, 0.23395253954318646, 9, 0.7244219523054141, 10, 0.5725779255103334], [8, 0.19953946479435597, 10, -0.0767633249085467, 9, 0.5410937528457747, 5, 0.572427695843748], [5, 0.6633679532984982, 5, 0.1395987531920661, 9, 0.5293829340793357, 8, 0.6955161479572922], [8, -0.08753252277055673, 5, 0.3786210508963967, 5, 0.5488136747951502, 8, 0.49086195955501094], [10, 0.7770422824882111, 6, -0.07377541180370645, 9, 0.09867069121890676, 5, 0.04831343307603836], [10, 0.5986962393384132, 7, 0.5694307998071126, 7, 0.11432129473072156, 10, 0.3644859029547874], [9, 0.7609812815873034, 9, 0.08449776071536402, 5, 0.6520639226674183, 10, 0.28761939986934365], [10, -0.18059569009104942, 6, 0.02487359053186594, 7, 0.23061849204619206, 6, 0.19925805354238263], [7, 0.33253492051589767, 8, 0.5023219640446401, 8, -0.08798685091963937, 9, 0.7663931503918788], [10, 0.6219102437966326, 7, 0.6113015697432578, 5, 0.48502661382267526, 6, 0.28078859605952206], [9, 0.22569888524502674, 10, 0.45763454465369097, 6, -0.16475650613908538, 7, 0.34813789183213245], [7, 0.7691634819900692, 8, 0.5550418264935271, 5, -0.1871511082833805, 5, 0.7873293728835413], [7, 0.5039979039634401, 10, -0.09359764069716808, 10, 0.2924976654805584, 5, -0.1287928882094787], [7, 0.01920070784358735, 8, 0.2603210589977511, 8, 0.21035503901746905, 5, 0.7751898460781841], [8, 0.12730013239300403, 8, 0.03789574483995123, 9, 0.46421810567687366, 7, -0.11510147798652676], [10, 0.4606133645356035, 5, 0.38603106827278516, 8, 0.32691985839060805, 9, 0.381955600684937], [10, 0.34771251965709965, 7, 0.46585387682009033, 9, 0.4981716546475308, 10, 0.7220121892314908], [9, 0.7818626697745206, 6, 0.22721194640038272, 5, -0.08524620363947749, 8, 0.7585668500010949], [7, -0.1889194638566845, 10, 0.24391640329683345, 6, 0.12664485462313374, 10, 0.07277432437247705], [10, 0.05060315262095966, 7, 0.7625296222194453, 10, 0.7455350166807118, 8, -0.1611744837132269], [9, 0.23839670692430365, 6, 0.2965259992177434, 9, 0.47733682749328393, 5, 0.7938408272128032], [5, -0.04574831076692293, 10, -0.031675907622023936, 6, 0.4761217099026644, 9, 0.681407590546188], [8, -0.07194293321540896, 6, 0.6695884859928343, 7, -0.15739835475710778, 8, 0.259185292011848], [6, 0.6796037475792942, 10, 0.6283568182081765, 8, -0.16311597033111885, 5, 0.037374538708434046], [10, 0.751527446377972, 8, 0.09362302293448926, 9, 0.009147262365063635, 5, -0.19011204814609667], [9, 0.14737995453518554, 6, -0.14152991548419142, 8, 0.5204087048302302, 7, 0.6534400205471242], [8, -0.029187202643737253, 5, -0.18135153111202523, 6, 0.2209547274811307, 10, 0.425283906111754], [9, 0.7978959789686406, 8, 0.4217733408268833, 5, -0.1749886974628701, 8, 0.15928436092108272], [6, 0.48323039401092577, 7, -0.17585003165765073, 10, 0.6096241849116355, 6, 0.6324381792019207], [7, 0.3230406266126578, 7, 0.02878707340707748, 5, 0.059577561606844076, 7, 0.2610657436473193], [5, 0.2893003768189529, 6, 0.13551807038919667, 10, 0.7578152637140383, 10, 0.647583794538475], [6, 0.6714905825809132, 6, -0.12456802523693261, 9, 0.5705100931494456, 8, -0.05940116957413205], [10, -0.1279452709250674, 7, -0.07693810129718975, 7, -0.08622531943551187, 10, -0.13676285152082596], [10, 0.6570088109222068, 9, 0.48669383055586474, 9, 0.4487956995434736, 6, 0.7151684861407868], [10, 0.44314102845259234, 8, 0.3645630329392235, 9, 0.10748427599363403, 10, 0.2763049013862036], [6, 0.3217521523353328, 6, 0.7568029710650048, 6, 0.6374361212938195, 10, 0.0766298892261455], [8, 0.7628134134125222, 7, -0.17326944393711669, 8, 0.05561257804918157, 9, -0.03459993778630471], [5, 0.6990856374900565, 7, 0.4071851555893145, 5, 0.27347326179720705, 8, -0.09013976065674584], [9, 0.42311568433230823, 6, -0.10862215474369935, 8, 0.5536916277965456, 8, -0.11231801794392643], [7, 0.7753243143112947, 6, 0.6650151124070396, 8, -0.010795574863065427, 5, 0.15596886202041288], [8, 0.30155840903766523, 5, -0.16425479868760823, 10, 0.6758998732875692, 10, 0.7619115906480816], [6, 0.5198295597478428, 10, 0.45101125856812824, 6, 0.5169704567736879, 9, -0.031137391236093548], [8, 0.1276130639703012, 9, 0.3501793396649509, 6, 0.04521456498926296, 7, 0.6600061502886978], [9, 0.14214977668369005, 6, 0.5173333245572977, 8, 0.10427485822360966, 10, -0.06496087070943019], [8, 0.2560480911588086, 5, 0.1199099018713497, 10, 0.5122821383684129, 7, 0.5719703478662634], [9, -0.10605436043366384, 9, 0.34203986150478644, 7, 0.5792517073730763, 5, 0.7730992101167866], [8, -0.10897671814056237, 6, 0.4453044292205683, 5, -0.17613024481791945, 8, -0.13417114204225405], [10, 0.4052288672966525, 9, 0.5723754244677517, 10, 0.5376032017683301, 10, 0.37446306121250234], [6, 0.022945453099958713, 8, 0.18081012221017406, 5, 0.5230659172045478, 7, 0.2507437620035922], [5, 0.43173308099348123, 7, 0.10373605049457274, 8, 0.2356609333402862, 8, 0.19027687847779], [7, 0.6443009224637526, 9, 0.6686130710058289, 5, 0.6276885370479117, 5, -0.11853224908308463], [6, 0.7151408177779162, 6, 0.30231692635875423, 8, 0.7829283478812838, 9, 0.5369550499287932], [5, 0.557857360050023, 10, 0.40815744115468605, 5, 0.2964684635841736, 8, 0.5802703059822836]]]\n"
          ]
        }
      ]
    },
    {
      "cell_type": "markdown",
      "source": [
        "### Seeding a population\n",
        "\n",
        "Sometimes, a first guess population can be used to initialize an evolutionary algorithm. The key idea to initialize a population with non-random individuals is to have an individual initializer that takes a content as argument."
      ],
      "metadata": {
        "id": "QHxnKaMjuaTG"
      }
    },
    {
      "cell_type": "code",
      "source": [
        "import json\n",
        "\n",
        "from deap import base\n",
        "from deap import creator\n",
        "\n",
        "creator.create(\"FitnessMax\", base.Fitness, weights=(1.0, 1.0))\n",
        "creator.create(\"Individual\", list, fitness=creator.FitnessMax)\n",
        "\n",
        "def initIndividual(icls, content):\n",
        "  return icls(content)\n",
        "\n",
        "def initPopulation(pcls, ind_init, filename):\n",
        "  with open(filename, \"r\") as pop_file:\n",
        "    contents = json.load(pop_file)\n",
        "  return pcls(ind_init(c) for c in contents)\n",
        "\n",
        "toolbox = base.Toolbox()\n",
        "\n",
        "toolbox.register(\"individual_guess\", initIndividual, creator.Individual)\n",
        "toolbox.register(\"population_guess\", initPopulation, list, toolbox.individual_guess, \"my_guess.json\")\n",
        "\n",
        "population = toolbox.population_guess()"
      ],
      "metadata": {
        "colab": {
          "base_uri": "https://localhost:8080/",
          "height": 321
        },
        "id": "DxF2n7DvuL9E",
        "outputId": "299ad571-57e9-4633-ee00-c895e537d4a6"
      },
      "execution_count": null,
      "outputs": [
        {
          "output_type": "error",
          "ename": "FileNotFoundError",
          "evalue": "ignored",
          "traceback": [
            "\u001b[0;31m---------------------------------------------------------------------------\u001b[0m",
            "\u001b[0;31mFileNotFoundError\u001b[0m                         Traceback (most recent call last)",
            "\u001b[0;32m<ipython-input-1-05cdc3d86653>\u001b[0m in \u001b[0;36m<module>\u001b[0;34m\u001b[0m\n\u001b[1;32m     20\u001b[0m \u001b[0mtoolbox\u001b[0m\u001b[0;34m.\u001b[0m\u001b[0mregister\u001b[0m\u001b[0;34m(\u001b[0m\u001b[0;34m\"population_guess\"\u001b[0m\u001b[0;34m,\u001b[0m \u001b[0minitPopulation\u001b[0m\u001b[0;34m,\u001b[0m \u001b[0mlist\u001b[0m\u001b[0;34m,\u001b[0m \u001b[0mtoolbox\u001b[0m\u001b[0;34m.\u001b[0m\u001b[0mindividual_guess\u001b[0m\u001b[0;34m,\u001b[0m \u001b[0;34m\"my_guess.json\"\u001b[0m\u001b[0;34m)\u001b[0m\u001b[0;34m\u001b[0m\u001b[0;34m\u001b[0m\u001b[0m\n\u001b[1;32m     21\u001b[0m \u001b[0;34m\u001b[0m\u001b[0m\n\u001b[0;32m---> 22\u001b[0;31m \u001b[0mpopulation\u001b[0m \u001b[0;34m=\u001b[0m \u001b[0mtoolbox\u001b[0m\u001b[0;34m.\u001b[0m\u001b[0mpopulation_guess\u001b[0m\u001b[0;34m(\u001b[0m\u001b[0;34m)\u001b[0m\u001b[0;34m\u001b[0m\u001b[0;34m\u001b[0m\u001b[0m\n\u001b[0m",
            "\u001b[0;32m<ipython-input-1-05cdc3d86653>\u001b[0m in \u001b[0;36minitPopulation\u001b[0;34m(pcls, ind_init, filename)\u001b[0m\n\u001b[1;32m     11\u001b[0m \u001b[0;34m\u001b[0m\u001b[0m\n\u001b[1;32m     12\u001b[0m \u001b[0;32mdef\u001b[0m \u001b[0minitPopulation\u001b[0m\u001b[0;34m(\u001b[0m\u001b[0mpcls\u001b[0m\u001b[0;34m,\u001b[0m \u001b[0mind_init\u001b[0m\u001b[0;34m,\u001b[0m \u001b[0mfilename\u001b[0m\u001b[0;34m)\u001b[0m\u001b[0;34m:\u001b[0m\u001b[0;34m\u001b[0m\u001b[0;34m\u001b[0m\u001b[0m\n\u001b[0;32m---> 13\u001b[0;31m   \u001b[0;32mwith\u001b[0m \u001b[0mopen\u001b[0m\u001b[0;34m(\u001b[0m\u001b[0mfilename\u001b[0m\u001b[0;34m,\u001b[0m \u001b[0;34m\"r\"\u001b[0m\u001b[0;34m)\u001b[0m \u001b[0;32mas\u001b[0m \u001b[0mpop_file\u001b[0m\u001b[0;34m:\u001b[0m\u001b[0;34m\u001b[0m\u001b[0;34m\u001b[0m\u001b[0m\n\u001b[0m\u001b[1;32m     14\u001b[0m     \u001b[0mcontents\u001b[0m \u001b[0;34m=\u001b[0m \u001b[0mjson\u001b[0m\u001b[0;34m.\u001b[0m\u001b[0mload\u001b[0m\u001b[0;34m(\u001b[0m\u001b[0mpop_file\u001b[0m\u001b[0;34m)\u001b[0m\u001b[0;34m\u001b[0m\u001b[0;34m\u001b[0m\u001b[0m\n\u001b[1;32m     15\u001b[0m   \u001b[0;32mreturn\u001b[0m \u001b[0mpcls\u001b[0m\u001b[0;34m(\u001b[0m\u001b[0mind_init\u001b[0m\u001b[0;34m(\u001b[0m\u001b[0mc\u001b[0m\u001b[0;34m)\u001b[0m \u001b[0;32mfor\u001b[0m \u001b[0mc\u001b[0m \u001b[0;32min\u001b[0m \u001b[0mcontents\u001b[0m\u001b[0;34m)\u001b[0m\u001b[0;34m\u001b[0m\u001b[0;34m\u001b[0m\u001b[0m\n",
            "\u001b[0;31mFileNotFoundError\u001b[0m: [Errno 2] No such file or directory: 'my_guess.json'"
          ]
        }
      ]
    },
    {
      "cell_type": "code",
      "source": [],
      "metadata": {
        "id": "3fDvrZAQ7U0s"
      },
      "execution_count": null,
      "outputs": []
    }
  ]
}